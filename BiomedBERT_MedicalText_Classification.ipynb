{
  "cells": [
    {
      "cell_type": "markdown",
      "metadata": {
        "id": "view-in-github",
        "colab_type": "text"
      },
      "source": [
        "<a href=\"https://colab.research.google.com/github/sarim711/BiomedBERT_Medical-Text_Classification/blob/main/BiomedBERT_MedicalText_Classification.ipynb\" target=\"_parent\"><img src=\"https://colab.research.google.com/assets/colab-badge.svg\" alt=\"Open In Colab\"/></a>"
      ]
    },
    {
      "cell_type": "markdown",
      "metadata": {
        "id": "ePLrbmyyYx2K"
      },
      "source": [
        "# Text classification with BERT"
      ]
    },
    {
      "cell_type": "code",
      "execution_count": null,
      "metadata": {
        "id": "NyzHtR7pat7I"
      },
      "outputs": [],
      "source": [
        "#load libraries necessary for TF-IDF classification\n",
        "import pandas as pd\n",
        "from sklearn.feature_extraction.text import TfidfVectorizer\n",
        "from sklearn.linear_model import LogisticRegression\n",
        "import numpy as np\n",
        "import re\n",
        "import matplotlib.pyplot as plt\n",
        "import spacy\n",
        "from sklearn.metrics import confusion_matrix, f1_score\n",
        "import seaborn as sns"
      ]
    },
    {
      "cell_type": "code",
      "execution_count": null,
      "metadata": {
        "id": "j6TY8vbHYt_b"
      },
      "outputs": [],
      "source": [
        "#load corpus\n",
        "df = pd.read_csv(\"covid_df.csv\")\n",
        "df = df.sample(len(df))"
      ]
    },
    {
      "cell_type": "code",
      "execution_count": null,
      "metadata": {
        "colab": {
          "base_uri": "https://localhost:8080/",
          "height": 424
        },
        "id": "7Zl51XB-bPl_",
        "outputId": "a2fe0282-fe3b-4840-e04a-33b985222a1f"
      },
      "outputs": [
        {
          "data": {
            "application/vnd.google.colaboratory.intrinsic+json": {
              "summary": "{\n  \"name\": \"df\",\n  \"rows\": 222,\n  \"fields\": [\n    {\n      \"column\": \"doc_id\",\n      \"properties\": {\n        \"dtype\": \"number\",\n        \"std\": 1368567,\n        \"min\": 32075877,\n        \"max\": 37943961,\n        \"num_unique_values\": 222,\n        \"samples\": [\n          33082294,\n          32245784,\n          36228020\n        ],\n        \"semantic_type\": \"\",\n        \"description\": \"\"\n      }\n    },\n    {\n      \"column\": \"Title\",\n      \"properties\": {\n        \"dtype\": \"string\",\n        \"num_unique_values\": 222,\n        \"samples\": [\n          \"Neuropilin-1 is a host factor for SARS-CoV-2 infection.\",\n          \"A highly conserved cryptic epitope in the receptor binding domains of SARS-CoV-2 and SARS-CoV.\",\n          \"Remember, do no harm?\"\n        ],\n        \"semantic_type\": \"\",\n        \"description\": \"\"\n      }\n    },\n    {\n      \"column\": \"Abstract\",\n      \"properties\": {\n        \"dtype\": \"string\",\n        \"num_unique_values\": 222,\n        \"samples\": [\n          \"Severe acute respiratory syndrome coronavirus 2 (SARS-CoV-2), the causative agent of coronavirus disease 2019 (COVID-19), uses the viral spike (S) protein for host cell attachment and entry. The host protease furin cleaves the full-length precursor S glycoprotein into two associated polypeptides: S1 and S2. Cleavage of S generates a polybasic Arg-Arg-Ala-Arg carboxyl-terminal sequence on S1, which conforms to a C-end rule (CendR) motif that binds to cell surface neuropilin-1 (NRP1) and NRP2 receptors. We used x-ray crystallography and biochemical approaches to show that the S1 CendR motif directly bound NRP1. Blocking this interaction by RNA interference or selective inhibitors reduced SARS-CoV-2 entry and infectivity in cell culture. NRP1 thus serves as a host factor for SARS-CoV-2 infection and may potentially provide a therapeutic target for COVID-19.\",\n          \"The outbreak of coronavirus disease 2019 (COVID-19) caused by severe acute respiratory syndrome-coronavirus 2 (SARS-CoV-2) has now become a pandemic, but there is currently very little understanding of the antigenicity of the virus. We therefore determined the crystal structure of CR3022, a neutralizing antibody previously isolated from a convalescent SARS patient, in complex with the receptor binding domain (RBD) of the SARS-CoV-2 spike (S) protein at 3.1-angstrom resolution. CR3022 targets a highly conserved epitope, distal from the receptor binding site, that enables cross-reactive binding between SARS-CoV-2 and SARS-CoV. Structural modeling further demonstrates that the binding epitope can only be accessed by CR3022 when at least two RBDs on the trimeric S protein are in the \\\"up\\\" conformation and slightly rotated. These results provide molecular insights into antibody recognition of SARS-CoV-2.\",\n          \"When the advocacy group America's Frontline Doctors appeared on the steps of the United States Supreme Court in 2020, falsely stating that hydroxychloroquine was a cure for COVID-19, their pronouncement was virally shared by right-wing media and soundly debunked by medical academicians. A year later, one of these frontliners, Joseph Ladapo, became the surgeon general of Florida and a faculty member at the University of Florida College of Medicine. He has continued to spread dangerous misinformation about COVID-19 while his academic colleagues are shamefully silent.\"\n        ],\n        \"semantic_type\": \"\",\n        \"description\": \"\"\n      }\n    },\n    {\n      \"column\": \"Year\",\n      \"properties\": {\n        \"dtype\": \"number\",\n        \"std\": 0,\n        \"min\": 2020,\n        \"max\": 2023,\n        \"num_unique_values\": 4,\n        \"samples\": [\n          2022,\n          2020,\n          2023\n        ],\n        \"semantic_type\": \"\",\n        \"description\": \"\"\n      }\n    },\n    {\n      \"column\": \"Split\",\n      \"properties\": {\n        \"dtype\": \"category\",\n        \"num_unique_values\": 3,\n        \"samples\": [\n          \"Train\",\n          \"Test\",\n          \"Valid\"\n        ],\n        \"semantic_type\": \"\",\n        \"description\": \"\"\n      }\n    }\n  ]\n}",
              "type": "dataframe",
              "variable_name": "df"
            },
            "text/html": [
              "\n",
              "  <div id=\"df-418c1487-4886-4497-b778-ee041adbc8dc\" class=\"colab-df-container\">\n",
              "    <div>\n",
              "<style scoped>\n",
              "    .dataframe tbody tr th:only-of-type {\n",
              "        vertical-align: middle;\n",
              "    }\n",
              "\n",
              "    .dataframe tbody tr th {\n",
              "        vertical-align: top;\n",
              "    }\n",
              "\n",
              "    .dataframe thead th {\n",
              "        text-align: right;\n",
              "    }\n",
              "</style>\n",
              "<table border=\"1\" class=\"dataframe\">\n",
              "  <thead>\n",
              "    <tr style=\"text-align: right;\">\n",
              "      <th></th>\n",
              "      <th>doc_id</th>\n",
              "      <th>Title</th>\n",
              "      <th>Abstract</th>\n",
              "      <th>Year</th>\n",
              "      <th>Split</th>\n",
              "    </tr>\n",
              "  </thead>\n",
              "  <tbody>\n",
              "    <tr>\n",
              "      <th>0</th>\n",
              "      <td>37943961</td>\n",
              "      <td>Correction is courageous.</td>\n",
              "      <td>In a year when disagreements over scientific m...</td>\n",
              "      <td>2023</td>\n",
              "      <td>Train</td>\n",
              "    </tr>\n",
              "    <tr>\n",
              "      <th>1</th>\n",
              "      <td>37943932</td>\n",
              "      <td>Open science discovery of potent noncovalent S...</td>\n",
              "      <td>We report the results of the COVID Moonshot, a...</td>\n",
              "      <td>2023</td>\n",
              "      <td>Test</td>\n",
              "    </tr>\n",
              "    <tr>\n",
              "      <th>2</th>\n",
              "      <td>37797027</td>\n",
              "      <td>Mapping SARS-CoV-2 antigenic relationships and...</td>\n",
              "      <td>During the severe acute respiratory syndrome c...</td>\n",
              "      <td>2023</td>\n",
              "      <td>Train</td>\n",
              "    </tr>\n",
              "    <tr>\n",
              "      <th>3</th>\n",
              "      <td>37616383</td>\n",
              "      <td>Will climate change amplify epidemics and give...</td>\n",
              "      <td>While the world recovers from the COVID-19 pan...</td>\n",
              "      <td>2023</td>\n",
              "      <td>Train</td>\n",
              "    </tr>\n",
              "    <tr>\n",
              "      <th>4</th>\n",
              "      <td>37471538</td>\n",
              "      <td>Genomic assessment of invasion dynamics of SAR...</td>\n",
              "      <td>Severe acute respiratory syndrome coronavirus ...</td>\n",
              "      <td>2023</td>\n",
              "      <td>Train</td>\n",
              "    </tr>\n",
              "    <tr>\n",
              "      <th>...</th>\n",
              "      <td>...</td>\n",
              "      <td>...</td>\n",
              "      <td>...</td>\n",
              "      <td>...</td>\n",
              "      <td>...</td>\n",
              "    </tr>\n",
              "    <tr>\n",
              "      <th>217</th>\n",
              "      <td>32234804</td>\n",
              "      <td>An investigation of transmission control measu...</td>\n",
              "      <td>Responding to an outbreak of a novel coronavir...</td>\n",
              "      <td>2020</td>\n",
              "      <td>Train</td>\n",
              "    </tr>\n",
              "    <tr>\n",
              "      <th>218</th>\n",
              "      <td>32213647</td>\n",
              "      <td>The effect of human mobility and control measu...</td>\n",
              "      <td>The ongoing coronavirus disease 2019 (COVID-19...</td>\n",
              "      <td>2020</td>\n",
              "      <td>Test</td>\n",
              "    </tr>\n",
              "    <tr>\n",
              "      <th>219</th>\n",
              "      <td>32179701</td>\n",
              "      <td>Substantial undocumented infection facilitates...</td>\n",
              "      <td>Estimation of the prevalence and contagiousnes...</td>\n",
              "      <td>2020</td>\n",
              "      <td>Train</td>\n",
              "    </tr>\n",
              "    <tr>\n",
              "      <th>220</th>\n",
              "      <td>32144116</td>\n",
              "      <td>The effect of travel restrictions on the sprea...</td>\n",
              "      <td>Motivated by the rapid spread of coronavirus d...</td>\n",
              "      <td>2020</td>\n",
              "      <td>Train</td>\n",
              "    </tr>\n",
              "    <tr>\n",
              "      <th>221</th>\n",
              "      <td>32075877</td>\n",
              "      <td>Cryo-EM structure of the 2019-nCoV spike in th...</td>\n",
              "      <td>The outbreak of a novel coronavirus (2019-nCoV...</td>\n",
              "      <td>2020</td>\n",
              "      <td>Test</td>\n",
              "    </tr>\n",
              "  </tbody>\n",
              "</table>\n",
              "<p>222 rows × 5 columns</p>\n",
              "</div>\n",
              "    <div class=\"colab-df-buttons\">\n",
              "\n",
              "  <div class=\"colab-df-container\">\n",
              "    <button class=\"colab-df-convert\" onclick=\"convertToInteractive('df-418c1487-4886-4497-b778-ee041adbc8dc')\"\n",
              "            title=\"Convert this dataframe to an interactive table.\"\n",
              "            style=\"display:none;\">\n",
              "\n",
              "  <svg xmlns=\"http://www.w3.org/2000/svg\" height=\"24px\" viewBox=\"0 -960 960 960\">\n",
              "    <path d=\"M120-120v-720h720v720H120Zm60-500h600v-160H180v160Zm220 220h160v-160H400v160Zm0 220h160v-160H400v160ZM180-400h160v-160H180v160Zm440 0h160v-160H620v160ZM180-180h160v-160H180v160Zm440 0h160v-160H620v160Z\"/>\n",
              "  </svg>\n",
              "    </button>\n",
              "\n",
              "  <style>\n",
              "    .colab-df-container {\n",
              "      display:flex;\n",
              "      gap: 12px;\n",
              "    }\n",
              "\n",
              "    .colab-df-convert {\n",
              "      background-color: #E8F0FE;\n",
              "      border: none;\n",
              "      border-radius: 50%;\n",
              "      cursor: pointer;\n",
              "      display: none;\n",
              "      fill: #1967D2;\n",
              "      height: 32px;\n",
              "      padding: 0 0 0 0;\n",
              "      width: 32px;\n",
              "    }\n",
              "\n",
              "    .colab-df-convert:hover {\n",
              "      background-color: #E2EBFA;\n",
              "      box-shadow: 0px 1px 2px rgba(60, 64, 67, 0.3), 0px 1px 3px 1px rgba(60, 64, 67, 0.15);\n",
              "      fill: #174EA6;\n",
              "    }\n",
              "\n",
              "    .colab-df-buttons div {\n",
              "      margin-bottom: 4px;\n",
              "    }\n",
              "\n",
              "    [theme=dark] .colab-df-convert {\n",
              "      background-color: #3B4455;\n",
              "      fill: #D2E3FC;\n",
              "    }\n",
              "\n",
              "    [theme=dark] .colab-df-convert:hover {\n",
              "      background-color: #434B5C;\n",
              "      box-shadow: 0px 1px 3px 1px rgba(0, 0, 0, 0.15);\n",
              "      filter: drop-shadow(0px 1px 2px rgba(0, 0, 0, 0.3));\n",
              "      fill: #FFFFFF;\n",
              "    }\n",
              "  </style>\n",
              "\n",
              "    <script>\n",
              "      const buttonEl =\n",
              "        document.querySelector('#df-418c1487-4886-4497-b778-ee041adbc8dc button.colab-df-convert');\n",
              "      buttonEl.style.display =\n",
              "        google.colab.kernel.accessAllowed ? 'block' : 'none';\n",
              "\n",
              "      async function convertToInteractive(key) {\n",
              "        const element = document.querySelector('#df-418c1487-4886-4497-b778-ee041adbc8dc');\n",
              "        const dataTable =\n",
              "          await google.colab.kernel.invokeFunction('convertToInteractive',\n",
              "                                                    [key], {});\n",
              "        if (!dataTable) return;\n",
              "\n",
              "        const docLinkHtml = 'Like what you see? Visit the ' +\n",
              "          '<a target=\"_blank\" href=https://colab.research.google.com/notebooks/data_table.ipynb>data table notebook</a>'\n",
              "          + ' to learn more about interactive tables.';\n",
              "        element.innerHTML = '';\n",
              "        dataTable['output_type'] = 'display_data';\n",
              "        await google.colab.output.renderOutput(dataTable, element);\n",
              "        const docLink = document.createElement('div');\n",
              "        docLink.innerHTML = docLinkHtml;\n",
              "        element.appendChild(docLink);\n",
              "      }\n",
              "    </script>\n",
              "  </div>\n",
              "\n",
              "\n",
              "<div id=\"df-d51d182d-d655-4be0-828b-826f37c9cb0e\">\n",
              "  <button class=\"colab-df-quickchart\" onclick=\"quickchart('df-d51d182d-d655-4be0-828b-826f37c9cb0e')\"\n",
              "            title=\"Suggest charts\"\n",
              "            style=\"display:none;\">\n",
              "\n",
              "<svg xmlns=\"http://www.w3.org/2000/svg\" height=\"24px\"viewBox=\"0 0 24 24\"\n",
              "     width=\"24px\">\n",
              "    <g>\n",
              "        <path d=\"M19 3H5c-1.1 0-2 .9-2 2v14c0 1.1.9 2 2 2h14c1.1 0 2-.9 2-2V5c0-1.1-.9-2-2-2zM9 17H7v-7h2v7zm4 0h-2V7h2v10zm4 0h-2v-4h2v4z\"/>\n",
              "    </g>\n",
              "</svg>\n",
              "  </button>\n",
              "\n",
              "<style>\n",
              "  .colab-df-quickchart {\n",
              "      --bg-color: #E8F0FE;\n",
              "      --fill-color: #1967D2;\n",
              "      --hover-bg-color: #E2EBFA;\n",
              "      --hover-fill-color: #174EA6;\n",
              "      --disabled-fill-color: #AAA;\n",
              "      --disabled-bg-color: #DDD;\n",
              "  }\n",
              "\n",
              "  [theme=dark] .colab-df-quickchart {\n",
              "      --bg-color: #3B4455;\n",
              "      --fill-color: #D2E3FC;\n",
              "      --hover-bg-color: #434B5C;\n",
              "      --hover-fill-color: #FFFFFF;\n",
              "      --disabled-bg-color: #3B4455;\n",
              "      --disabled-fill-color: #666;\n",
              "  }\n",
              "\n",
              "  .colab-df-quickchart {\n",
              "    background-color: var(--bg-color);\n",
              "    border: none;\n",
              "    border-radius: 50%;\n",
              "    cursor: pointer;\n",
              "    display: none;\n",
              "    fill: var(--fill-color);\n",
              "    height: 32px;\n",
              "    padding: 0;\n",
              "    width: 32px;\n",
              "  }\n",
              "\n",
              "  .colab-df-quickchart:hover {\n",
              "    background-color: var(--hover-bg-color);\n",
              "    box-shadow: 0 1px 2px rgba(60, 64, 67, 0.3), 0 1px 3px 1px rgba(60, 64, 67, 0.15);\n",
              "    fill: var(--button-hover-fill-color);\n",
              "  }\n",
              "\n",
              "  .colab-df-quickchart-complete:disabled,\n",
              "  .colab-df-quickchart-complete:disabled:hover {\n",
              "    background-color: var(--disabled-bg-color);\n",
              "    fill: var(--disabled-fill-color);\n",
              "    box-shadow: none;\n",
              "  }\n",
              "\n",
              "  .colab-df-spinner {\n",
              "    border: 2px solid var(--fill-color);\n",
              "    border-color: transparent;\n",
              "    border-bottom-color: var(--fill-color);\n",
              "    animation:\n",
              "      spin 1s steps(1) infinite;\n",
              "  }\n",
              "\n",
              "  @keyframes spin {\n",
              "    0% {\n",
              "      border-color: transparent;\n",
              "      border-bottom-color: var(--fill-color);\n",
              "      border-left-color: var(--fill-color);\n",
              "    }\n",
              "    20% {\n",
              "      border-color: transparent;\n",
              "      border-left-color: var(--fill-color);\n",
              "      border-top-color: var(--fill-color);\n",
              "    }\n",
              "    30% {\n",
              "      border-color: transparent;\n",
              "      border-left-color: var(--fill-color);\n",
              "      border-top-color: var(--fill-color);\n",
              "      border-right-color: var(--fill-color);\n",
              "    }\n",
              "    40% {\n",
              "      border-color: transparent;\n",
              "      border-right-color: var(--fill-color);\n",
              "      border-top-color: var(--fill-color);\n",
              "    }\n",
              "    60% {\n",
              "      border-color: transparent;\n",
              "      border-right-color: var(--fill-color);\n",
              "    }\n",
              "    80% {\n",
              "      border-color: transparent;\n",
              "      border-right-color: var(--fill-color);\n",
              "      border-bottom-color: var(--fill-color);\n",
              "    }\n",
              "    90% {\n",
              "      border-color: transparent;\n",
              "      border-bottom-color: var(--fill-color);\n",
              "    }\n",
              "  }\n",
              "</style>\n",
              "\n",
              "  <script>\n",
              "    async function quickchart(key) {\n",
              "      const quickchartButtonEl =\n",
              "        document.querySelector('#' + key + ' button');\n",
              "      quickchartButtonEl.disabled = true;  // To prevent multiple clicks.\n",
              "      quickchartButtonEl.classList.add('colab-df-spinner');\n",
              "      try {\n",
              "        const charts = await google.colab.kernel.invokeFunction(\n",
              "            'suggestCharts', [key], {});\n",
              "      } catch (error) {\n",
              "        console.error('Error during call to suggestCharts:', error);\n",
              "      }\n",
              "      quickchartButtonEl.classList.remove('colab-df-spinner');\n",
              "      quickchartButtonEl.classList.add('colab-df-quickchart-complete');\n",
              "    }\n",
              "    (() => {\n",
              "      let quickchartButtonEl =\n",
              "        document.querySelector('#df-d51d182d-d655-4be0-828b-826f37c9cb0e button');\n",
              "      quickchartButtonEl.style.display =\n",
              "        google.colab.kernel.accessAllowed ? 'block' : 'none';\n",
              "    })();\n",
              "  </script>\n",
              "</div>\n",
              "\n",
              "  <div id=\"id_698927ee-15b9-4bc0-9406-ebea266037ef\">\n",
              "    <style>\n",
              "      .colab-df-generate {\n",
              "        background-color: #E8F0FE;\n",
              "        border: none;\n",
              "        border-radius: 50%;\n",
              "        cursor: pointer;\n",
              "        display: none;\n",
              "        fill: #1967D2;\n",
              "        height: 32px;\n",
              "        padding: 0 0 0 0;\n",
              "        width: 32px;\n",
              "      }\n",
              "\n",
              "      .colab-df-generate:hover {\n",
              "        background-color: #E2EBFA;\n",
              "        box-shadow: 0px 1px 2px rgba(60, 64, 67, 0.3), 0px 1px 3px 1px rgba(60, 64, 67, 0.15);\n",
              "        fill: #174EA6;\n",
              "      }\n",
              "\n",
              "      [theme=dark] .colab-df-generate {\n",
              "        background-color: #3B4455;\n",
              "        fill: #D2E3FC;\n",
              "      }\n",
              "\n",
              "      [theme=dark] .colab-df-generate:hover {\n",
              "        background-color: #434B5C;\n",
              "        box-shadow: 0px 1px 3px 1px rgba(0, 0, 0, 0.15);\n",
              "        filter: drop-shadow(0px 1px 2px rgba(0, 0, 0, 0.3));\n",
              "        fill: #FFFFFF;\n",
              "      }\n",
              "    </style>\n",
              "    <button class=\"colab-df-generate\" onclick=\"generateWithVariable('df')\"\n",
              "            title=\"Generate code using this dataframe.\"\n",
              "            style=\"display:none;\">\n",
              "\n",
              "  <svg xmlns=\"http://www.w3.org/2000/svg\" height=\"24px\"viewBox=\"0 0 24 24\"\n",
              "       width=\"24px\">\n",
              "    <path d=\"M7,19H8.4L18.45,9,17,7.55,7,17.6ZM5,21V16.75L18.45,3.32a2,2,0,0,1,2.83,0l1.4,1.43a1.91,1.91,0,0,1,.58,1.4,1.91,1.91,0,0,1-.58,1.4L9.25,21ZM18.45,9,17,7.55Zm-12,3A5.31,5.31,0,0,0,4.9,8.1,5.31,5.31,0,0,0,1,6.5,5.31,5.31,0,0,0,4.9,4.9,5.31,5.31,0,0,0,6.5,1,5.31,5.31,0,0,0,8.1,4.9,5.31,5.31,0,0,0,12,6.5,5.46,5.46,0,0,0,6.5,12Z\"/>\n",
              "  </svg>\n",
              "    </button>\n",
              "    <script>\n",
              "      (() => {\n",
              "      const buttonEl =\n",
              "        document.querySelector('#id_698927ee-15b9-4bc0-9406-ebea266037ef button.colab-df-generate');\n",
              "      buttonEl.style.display =\n",
              "        google.colab.kernel.accessAllowed ? 'block' : 'none';\n",
              "\n",
              "      buttonEl.onclick = () => {\n",
              "        google.colab.notebook.generateWithVariable('df');\n",
              "      }\n",
              "      })();\n",
              "    </script>\n",
              "  </div>\n",
              "\n",
              "    </div>\n",
              "  </div>\n"
            ],
            "text/plain": [
              "       doc_id                                              Title  \\\n",
              "0    37943961                          Correction is courageous.   \n",
              "1    37943932  Open science discovery of potent noncovalent S...   \n",
              "2    37797027  Mapping SARS-CoV-2 antigenic relationships and...   \n",
              "3    37616383  Will climate change amplify epidemics and give...   \n",
              "4    37471538  Genomic assessment of invasion dynamics of SAR...   \n",
              "..        ...                                                ...   \n",
              "217  32234804  An investigation of transmission control measu...   \n",
              "218  32213647  The effect of human mobility and control measu...   \n",
              "219  32179701  Substantial undocumented infection facilitates...   \n",
              "220  32144116  The effect of travel restrictions on the sprea...   \n",
              "221  32075877  Cryo-EM structure of the 2019-nCoV spike in th...   \n",
              "\n",
              "                                              Abstract  Year  Split  \n",
              "0    In a year when disagreements over scientific m...  2023  Train  \n",
              "1    We report the results of the COVID Moonshot, a...  2023   Test  \n",
              "2    During the severe acute respiratory syndrome c...  2023  Train  \n",
              "3    While the world recovers from the COVID-19 pan...  2023  Train  \n",
              "4    Severe acute respiratory syndrome coronavirus ...  2023  Train  \n",
              "..                                                 ...   ...    ...  \n",
              "217  Responding to an outbreak of a novel coronavir...  2020  Train  \n",
              "218  The ongoing coronavirus disease 2019 (COVID-19...  2020   Test  \n",
              "219  Estimation of the prevalence and contagiousnes...  2020  Train  \n",
              "220  Motivated by the rapid spread of coronavirus d...  2020  Train  \n",
              "221  The outbreak of a novel coronavirus (2019-nCoV...  2020   Test  \n",
              "\n",
              "[222 rows x 5 columns]"
            ]
          },
          "execution_count": 3,
          "metadata": {},
          "output_type": "execute_result"
        }
      ],
      "source": [
        "def assign_train_test_split(df, train_size=0.8, valid_size=0.1, random_state=None):\n",
        "    df['Split'] = \"Test\"\n",
        "    train_indices = df.sample(frac=train_size, random_state=random_state).index\n",
        "    df.loc[train_indices, 'Split'] = \"Train\"\n",
        "\n",
        "    nb_valid = int(valid_size * len(df))\n",
        "    valid_indices = df.loc[df['Split'] == \"Test\"].sample(n=nb_valid, random_state=random_state).index\n",
        "    df.loc[valid_indices, 'Split'] = \"Valid\"\n",
        "\n",
        "    return df\n",
        "\n",
        "# Example usage:\n",
        "df = pd.read_csv(\"covid_df.csv\")\n",
        "df = assign_train_test_split(df, train_size=0.8, valid_size=0.1, random_state=42)\n",
        "df\n",
        "\n",
        "\n",
        "\n"
      ]
    },
    {
      "cell_type": "code",
      "execution_count": null,
      "metadata": {
        "id": "1fEaGjxKigyT"
      },
      "outputs": [],
      "source": [
        "#Did your function work?\n",
        "# Assertion checks\n",
        "assert np.fabs(len(df[df[\"Split\"] == \"Train\"]) - len(df) * 0.8) < 10\n",
        "assert np.fabs(len(df[df[\"Split\"] == \"Valid\"]) - len(df) * 0.1) < 10\n",
        "assert np.fabs(len(df[df[\"Split\"] == \"Test\"]) - len(df) * 0.1) < 10\n"
      ]
    },
    {
      "cell_type": "code",
      "execution_count": null,
      "metadata": {
        "id": "cqXbXuMxk6Wr"
      },
      "outputs": [],
      "source": [
        "\n",
        "nlp = spacy.load(\"en_core_web_sm\") #this could take a minute to download the first time"
      ]
    },
    {
      "cell_type": "code",
      "execution_count": null,
      "metadata": {
        "id": "D8gZQGiogxcN"
      },
      "outputs": [],
      "source": [
        "def clean(sentence):\n",
        "    sentence = nlp(sentence)\n",
        "    ret = []\n",
        "    for word in sentence:\n",
        "        if word.is_stop: continue\n",
        "        lem = word.lemma_\n",
        "        ret.append(lem)\n",
        "    spacy_cleaned = \" \".join(ret)\n",
        "    sent = re.sub('[^A-Za-z]', ' ', spacy_cleaned)\n",
        "    sent = re.sub('\\s+', ' ', sent)\n",
        "    return sent\n",
        "\n",
        "df[\"Abstract_Cleaned\"] = df[\"Abstract\"].apply(clean)"
      ]
    },
    {
      "cell_type": "code",
      "execution_count": null,
      "metadata": {
        "id": "AAp3RTnAj9Gu"
      },
      "outputs": [],
      "source": [
        "def get_tfidf_vectors_and_labels(df, split = \"Train\", max_features = 100):\n",
        "    #new TF-IDF vectorizer considering only the 1000 most common terms\n",
        "    vectorizer = TfidfVectorizer(max_features=max_features)\n",
        "    #compute the TF-IDF vectors for each cleaned abstract\n",
        "    vectorizer.fit(df[df.Split==\"Train\"][\"Abstract_Cleaned\"])\n",
        "    vectors = vectorizer.transform(df[df.Split==split][\"Abstract_Cleaned\"])\n",
        "\n",
        "    labels = df[df.Split==split][\"Year\"]\n",
        "    return vectors.toarray(), labels"
      ]
    },
    {
      "cell_type": "code",
      "execution_count": null,
      "metadata": {
        "id": "pk5f9aF5_SQd"
      },
      "outputs": [],
      "source": [
        "def get_tfidf_vectors_and_labels(df, split=\"Train\", max_features=100):\n",
        "    # New TF-IDF vectorizer considering only the specified number of most common terms\n",
        "    vectorizer = TfidfVectorizer(max_features=max_features)\n",
        "\n",
        "    # Compute the TF-IDF vectors for each cleaned abstract in the training set\n",
        "    vectorizer.fit(df[df.Split == \"Train\"][\"Abstract_Cleaned\"])\n",
        "\n",
        "    # Get the TF-IDF vectors for the specified split\n",
        "    vectors = vectorizer.transform(df[df.Split == split][\"Abstract_Cleaned\"]).toarray()\n",
        "\n",
        "    # Get the labels for the specified split\n",
        "    labels = df[df.Split == split][\"Year\"]\n",
        "\n",
        "\n",
        "    return vectors, labels\n",
        "\n",
        "\n",
        "train_vectors, train_labels = get_tfidf_vectors_and_labels(df, split=\"Train\", max_features=100)\n",
        "\n"
      ]
    },
    {
      "cell_type": "code",
      "execution_count": null,
      "metadata": {
        "colab": {
          "base_uri": "https://localhost:8080/"
        },
        "id": "QII0ikJMYLxU",
        "outputId": "78848235-b377-4c5f-9edf-99012f6b4a1f"
      },
      "outputs": [
        {
          "data": {
            "text/plain": [
              "array(['ace', 'activity', 'acute', 'age', 'analysis', 'animal',\n",
              "       'antibody', 'antiviral', 'bind', 'case', 'cause', 'cell', 'change',\n",
              "       'child', 'concern', 'contact', 'control', 'coronavirus', 'country',\n",
              "       'cov', 'covid', 'critical', 'datum', 'death', 'delta', 'design',\n",
              "       'disease', 'domain', 'dose', 'early', 'epidemic', 'epitope',\n",
              "       'escape', 'estimate', 'find', 'future', 'global', 'health', 'high',\n",
              "       'human', 'identify', 'ifn', 'immune', 'immunity', 'include',\n",
              "       'increase', 'individual', 'infection', 'intervention', 'lead',\n",
              "       'lineage', 'low', 'model', 'month', 'mutation', 'need',\n",
              "       'neutralization', 'neutralize', 'new', 'number', 'omicron',\n",
              "       'pandemic', 'patient', 'population', 'protein', 'provide',\n",
              "       'public', 'rate', 'rbd', 'receptor', 'reduce', 'report',\n",
              "       'respiratory', 'response', 'result', 'reveal', 'risk', 'rna',\n",
              "       'sars', 'severe', 'specific', 'spike', 'spread', 'structure',\n",
              "       'study', 'suggest', 'syndrome', 'target', 'therapeutic', 'time',\n",
              "       'transmission', 'type', 'understand', 'united', 'vaccination',\n",
              "       'vaccine', 'variant', 'viral', 'virus', 'year'], dtype=object)"
            ]
          },
          "execution_count": 49,
          "metadata": {},
          "output_type": "execute_result"
        }
      ],
      "source": [
        "vectorizer = TfidfVectorizer(max_features=100)\n",
        "vectorizer.fit(df[df.Split == \"Train\"][\"Abstract_Cleaned\"])\n",
        "\n",
        "vocabulary = vectorizer.get_feature_names_out()\n",
        "vocabulary\n"
      ]
    },
    {
      "cell_type": "code",
      "execution_count": null,
      "metadata": {
        "colab": {
          "base_uri": "https://localhost:8080/",
          "height": 564
        },
        "id": "JbAjmsWhJDBf",
        "outputId": "7be2a3b4-d7f2-4c12-e9e8-dd2b06e969dd"
      },
      "outputs": [
        {
          "data": {
            "image/png": "[encoded data removed]",
            "text/plain": [
              "<Figure size 1000x600 with 1 Axes>"
            ]
          },
          "metadata": {},
          "output_type": "display_data"
        }
      ],
      "source": [
        "# Plotting\n",
        "years_distribution = df[\"Year\"].value_counts().sort_index()\n",
        "\n",
        "plt.figure(figsize=(10, 6))\n",
        "plt.bar(years_distribution.index, years_distribution.values, color='skyblue')\n",
        "plt.title('Distribution of Years')\n",
        "plt.xlabel('Year')\n",
        "plt.ylabel('Count')\n",
        "plt.show()\n"
      ]
    },
    {
      "cell_type": "code",
      "execution_count": null,
      "metadata": {
        "id": "Vc0HEnZYmnz3"
      },
      "outputs": [],
      "source": [
        "\n",
        "\n",
        "# 1. Train and return the classifier\n",
        "def train_tfidf_classifier(vectors_train, labels_train):\n",
        "    model = LogisticRegression()\n",
        "    model.fit(vectors_train, labels_train)\n",
        "    return model\n",
        "\n",
        "# 2. Predict and return metrics\n",
        "def evaluate_model(model, vectors, labels, average='macro'):\n",
        "    predictions = model.predict(vectors)\n",
        "    f1 = f1_score(labels, predictions, average=average)\n",
        "    return predictions, f1\n",
        "\n",
        "# 3. Plot confusion matrix\n",
        "def plot_confusion_matrix(y_true, y_pred, class_labels, title=\"Confusion Matrix\"):\n",
        "    cm = confusion_matrix(y_true, y_pred)\n",
        "    plt.figure(figsize=(8, 6))\n",
        "    sns.heatmap(cm, annot=True, fmt=\"d\", cmap=\"Blues\",\n",
        "                xticklabels=class_labels, yticklabels=class_labels)\n",
        "    plt.title(title)\n",
        "    plt.xlabel(\"Predicted Class\")\n",
        "    plt.ylabel(\"True Class\")\n",
        "    plt.show()\n",
        "\n",
        "# 4. Final test evaluation (e.g. after tuning)\n",
        "def run_final_evaluation(df, max_features, class_labels):\n",
        "    # Get vectors & labels\n",
        "    vectors_train, labels_train = get_tfidf_vectors_and_labels(df, split=\"Train\", max_features=max_features)\n",
        "    vectors_test, labels_test = get_tfidf_vectors_and_labels(df, split=\"Test\", max_features=max_features)\n",
        "\n",
        "    # Train and evaluate\n",
        "    model = train_tfidf_classifier(vectors_train, labels_train)\n",
        "    predictions_test, _ = evaluate_model(model, vectors_test, labels_test)\n",
        "\n",
        "    # Confusion matrix\n",
        "    plot_confusion_matrix(labels_test, predictions_test, class_labels, title=\"TF-IDF Confusion Matrix\")\n",
        "\n",
        "# 5. Hyperparameter tuning across different max_features values\n",
        "def find_best_max_features(df, max_features_list):\n",
        "    f1_scores_train = []\n",
        "    f1_scores_valid = []\n",
        "    best_max_features = None\n",
        "    best_f1_valid = 0.0\n",
        "\n",
        "    for max_features in max_features_list:\n",
        "        vectors_train, labels_train = get_tfidf_vectors_and_labels(df, split=\"Train\", max_features=max_features)\n",
        "        vectors_valid, labels_valid = get_tfidf_vectors_and_labels(df, split=\"Valid\", max_features=max_features)\n",
        "\n",
        "        model = train_tfidf_classifier(vectors_train, labels_train)\n",
        "\n",
        "        _, f1_train = evaluate_model(model, vectors_train, labels_train)\n",
        "        _, f1_valid = evaluate_model(model, vectors_valid, labels_valid)\n",
        "\n",
        "        f1_scores_train.append(f1_train)\n",
        "        f1_scores_valid.append(f1_valid)\n",
        "\n",
        "        if f1_valid > best_f1_valid:\n",
        "            best_f1_valid = f1_valid\n",
        "            best_max_features = max_features\n",
        "\n",
        "    # Plot\n",
        "    plt.plot(np.arange(len(max_features_list)), f1_scores_train, label=\"F1 Train\")\n",
        "    plt.plot(np.arange(len(max_features_list)), f1_scores_valid, label=\"F1 Valid\")\n",
        "    plt.xticks(np.arange(len(max_features_list)), max_features_list)\n",
        "    plt.xlabel(\"Vocabulary size (max_features)\")\n",
        "    plt.ylabel(\"F1 Score (Macro)\")\n",
        "    plt.title(\"TF-IDF Performance Tuning\")\n",
        "    plt.legend()\n",
        "    plt.show()\n",
        "\n",
        "    print(f\"\\nOptimal max_features: {best_max_features} (Validation F1 Score: {best_f1_valid:.4f})\")\n",
        "    return best_max_features\n",
        "\n"
      ]
    },
    {
      "cell_type": "code",
      "execution_count": null,
      "metadata": {
        "colab": {
          "base_uri": "https://localhost:8080/"
        },
        "id": "5AtyDKmzTg9o",
        "outputId": "d3771f95-0fcc-455d-d479-d62990bb86e0"
      },
      "outputs": [
        {
          "data": {
            "text/plain": [
              "100"
            ]
          },
          "execution_count": 52,
          "metadata": {},
          "output_type": "execute_result"
        }
      ],
      "source": [
        "best_max_features"
      ]
    },
    {
      "cell_type": "code",
      "execution_count": null,
      "metadata": {
        "colab": {
          "base_uri": "https://localhost:8080/",
          "height": 1000
        },
        "id": "sZJeRD81S95r",
        "outputId": "c578a814-131c-4eae-aac1-ffd5d0f8f51c"
      },
      "outputs": [
        {
          "data": {
            "image/png": "[encoded data removed]",
            "text/plain": [
              "<Figure size 640x480 with 1 Axes>"
            ]
          },
          "metadata": {},
          "output_type": "display_data"
        },
        {
          "name": "stdout",
          "output_type": "stream",
          "text": [
            "\n",
            "Optimal max_features: 100 (Validation F1 Score: 0.6396)\n"
          ]
        },
        {
          "data": {
            "image/png": "[encoded data removed]",
            "text/plain": [
              "<Figure size 800x600 with 2 Axes>"
            ]
          },
          "metadata": {},
          "output_type": "display_data"
        }
      ],
      "source": [
        "# Define the max_features array you want to test (vocabulary sizes)\n",
        "max_features_list = [5, 10, 100, 500, 1000]\n",
        "\n",
        "#  Tune the max_features to get the best one\n",
        "best_max_features = find_best_max_features(df, max_features_list)\n",
        "\n",
        "# Run final evaluation on the test set with the best_max_features\n",
        "class_labels = [\"Class 0\", \"Class 1\", \"Class 2\", \"Class 3\"]  # Replace with your actual class labels\n",
        "run_final_evaluation(df, best_max_features, class_labels)"
      ]
    },
    {
      "cell_type": "markdown",
      "metadata": {
        "id": "dEMSQ7-9v3Lw"
      },
      "source": [
        "# BERT for Text Classification\n",
        "\n",
        "Using classification model, BERT. BERT (read more [here](https://arxiv.org/abs/1810.04805)) is a Transformer network (read more [here](https://arxiv.org/abs/1706.03762)). That means that it is a deep neural network in which each layer is actual comprised of a Transformer block, whose architecture is described in the linked paper - read more about it in this illustration [here](https://jalammar.github.io/illustrated-transformer/).\n",
        "\n",
        "BERT is useful for text classification because it generates a latent representation for every input token based on its context. The output of BERT is there an $Nx768$ dimensional matrix, where $N$ is the number of tokens in the sequence input, and 768 is the size of token vectors produced by BERT. (Note: other models use different sized representations. The larger the representation, the more precise they can be, but also the more resources they require to both train and evaluate). We can then use these latent representations as inputs to a downstream task (such as sentence classification).\n",
        "\n",
        "We perform sentence classification by evaluating the special classification token that we insert at the very beginning of sentences before passing them to BERT. The self-attention mechanism (see the previously linked articles for more information) allows for a latent representation of the classifier token to reflect the input text as a whole."
      ]
    },
    {
      "cell_type": "code",
      "execution_count": null,
      "metadata": {
        "colab": {
          "base_uri": "https://localhost:8080/"
        },
        "id": "Y0NioMeDzSXk",
        "outputId": "39669ee2-16c6-4603-8cbb-3b443618b285"
      },
      "outputs": [
        {
          "name": "stdout",
          "output_type": "stream",
          "text": [
            "Requirement already satisfied: transformers in /usr/local/lib/python3.11/dist-packages (4.50.3)\n",
            "Requirement already satisfied: tokenizers in /usr/local/lib/python3.11/dist-packages (0.21.1)\n",
            "Requirement already satisfied: filelock in /usr/local/lib/python3.11/dist-packages (from transformers) (3.18.0)\n",
            "Requirement already satisfied: huggingface-hub<1.0,>=0.26.0 in /usr/local/lib/python3.11/dist-packages (from transformers) (0.30.1)\n",
            "Requirement already satisfied: numpy>=1.17 in /usr/local/lib/python3.11/dist-packages (from transformers) (2.0.2)\n",
            "Requirement already satisfied: packaging>=20.0 in /usr/local/lib/python3.11/dist-packages (from transformers) (24.2)\n",
            "Requirement already satisfied: pyyaml>=5.1 in /usr/local/lib/python3.11/dist-packages (from transformers) (6.0.2)\n",
            "Requirement already satisfied: regex!=2019.12.17 in /usr/local/lib/python3.11/dist-packages (from transformers) (2024.11.6)\n",
            "Requirement already satisfied: requests in /usr/local/lib/python3.11/dist-packages (from transformers) (2.32.3)\n",
            "Requirement already satisfied: safetensors>=0.4.3 in /usr/local/lib/python3.11/dist-packages (from transformers) (0.5.3)\n",
            "Requirement already satisfied: tqdm>=4.27 in /usr/local/lib/python3.11/dist-packages (from transformers) (4.67.1)\n",
            "Requirement already satisfied: fsspec>=2023.5.0 in /usr/local/lib/python3.11/dist-packages (from huggingface-hub<1.0,>=0.26.0->transformers) (2025.3.2)\n",
            "Requirement already satisfied: typing-extensions>=3.7.4.3 in /usr/local/lib/python3.11/dist-packages (from huggingface-hub<1.0,>=0.26.0->transformers) (4.13.0)\n",
            "Requirement already satisfied: charset-normalizer<4,>=2 in /usr/local/lib/python3.11/dist-packages (from requests->transformers) (3.4.1)\n",
            "Requirement already satisfied: idna<4,>=2.5 in /usr/local/lib/python3.11/dist-packages (from requests->transformers) (3.10)\n",
            "Requirement already satisfied: urllib3<3,>=1.21.1 in /usr/local/lib/python3.11/dist-packages (from requests->transformers) (2.3.0)\n",
            "Requirement already satisfied: certifi>=2017.4.17 in /usr/local/lib/python3.11/dist-packages (from requests->transformers) (2025.1.31)\n"
          ]
        }
      ],
      "source": [
        "!pip install transformers tokenizers\n",
        "import torch\n",
        "import transformers\n",
        "from transformers import AutoTokenizer\n",
        "from torch.optim import AdamW\n",
        "from torch.utils.data import Dataset, DataLoader\n",
        "from tqdm import tqdm  # progress bar for batches"
      ]
    },
    {
      "cell_type": "code",
      "execution_count": null,
      "metadata": {
        "colab": {
          "base_uri": "https://localhost:8080/"
        },
        "id": "FXuR7Q9ZynYP",
        "outputId": "82556141-7b81-44d2-d840-613bb3aef99d"
      },
      "outputs": [
        {
          "name": "stdout",
          "output_type": "stream",
          "text": [
            "GPU available!\n"
          ]
        }
      ],
      "source": [
        "if torch.cuda.is_available():\n",
        "    print('GPU available!')\n",
        "    device = torch.cuda.current_device()\n",
        "else:\n",
        "    print('GPU unavailable - CPU will be used for all calculations')\n",
        "    device = None"
      ]
    },
    {
      "cell_type": "markdown",
      "metadata": {
        "id": "Q--JVwkMzqC6"
      },
      "source": [
        "Using a pre-trained bio-medical BERT model i.e. model PubMedBert (read about it [here](https://huggingface.co/microsoft/BiomedNLP-BiomedBERT-base-uncased-abstract)). It has been trained on abstracts from PubMed!"
      ]
    },
    {
      "cell_type": "code",
      "execution_count": null,
      "metadata": {
        "id": "XcrxsbOixdf5"
      },
      "outputs": [],
      "source": [
        "#huggingface name for the model\n",
        "model_name = \"microsoft/BiomedNLP-BiomedBERT-base-uncased-abstract\""
      ]
    },
    {
      "cell_type": "code",
      "execution_count": null,
      "metadata": {
        "colab": {
          "base_uri": "https://localhost:8080/",
          "height": 237,
          "referenced_widgets": [
            "a1a7b015f64342e68c78f698c7b1c9af",
            "4442bb5b46b64b49a580bc118ef95c8e",
            "bacb63c74aae47c38cd894bf254b69cb",
            "aa6afb1fdb41485c8ae4302496c04ae1",
            "18c92b584aa8421db9191fd4e12118fd",
            "defa55248e24491dac360a750cf3f166",
            "de84d2bf2b904c2abf0ed2086b1db296",
            "60195a825a0d48f2a470b59961fb2a17",
            "be00e7e2fcda49208ed2ace600cfa342",
            "b377f561b0774ddb8dc943172cc2a68d",
            "924d8def44944f89ab7efd76eb65d29d",
            "ae00daa7ef9e41eba22a172ba84735e8",
            "35b5869d1ff04bf98cf08799ceb3f6e2",
            "1f061a9c510a470e8d250f193a22cd35",
            "baac484ef7ba41529536d749510bc1c7",
            "8d4837f5f1564a7e9bb29340a2b57384",
            "a8538f3f9e17426ea1dddc1a2abdb6bb",
            "770ac64afc044d30ae197a194eeaf423",
            "4d0bd263818a4ce0a6d62c4501955013",
            "7994a851c0254736b199ffbf4e058dbe",
            "d2266252b4e04040a4b568dcc7bf99ad",
            "411443b2f61e45d9b2227b78e4627e64",
            "72d6e3aa3641441a9198266656bae64c",
            "063f094acabc4599915fce4f7ede7647",
            "9da01e17606240d29e6d514750daa977",
            "54a8cb77e47540c19d474725266570e0",
            "a1eda13630124011a066c7896ec0d4d2",
            "7e6dea47b6204df69c247d73c720bce6",
            "512c18c190af4f4eab72640327ee5a1e",
            "e1f9a28a88184083b39740ac23a12781",
            "f013607fd3c04a858b8000b03291d55f",
            "98eb1aca60924a7cbc640ee94750c7b9",
            "7b3e3b0fbcfc41d691e2a1592a3f9a0f"
          ]
        },
        "id": "dYM61xcBt39t",
        "outputId": "2f15d2d6-b742-478a-a531-d848fdcc63e9"
      },
      "outputs": [
        {
          "name": "stderr",
          "output_type": "stream",
          "text": [
            "/usr/local/lib/python3.11/dist-packages/huggingface_hub/utils/_auth.py:94: UserWarning: \n",
            "The secret `HF_TOKEN` does not exist in your Colab secrets.\n",
            "To authenticate with the Hugging Face Hub, create a token in your settings tab (https://huggingface.co/settings/tokens), set it as secret in your Google Colab and restart your session.\n",
            "You will be able to reuse this secret in all of your notebooks.\n",
            "Please note that authentication is recommended but still optional to access public models or datasets.\n",
            "  warnings.warn(\n"
          ]
        },
        {
          "data": {
            "application/vnd.jupyter.widget-view+json": {
              "model_id": "a1a7b015f64342e68c78f698c7b1c9af",
              "version_major": 2,
              "version_minor": 0
            },
            "text/plain": [
              "tokenizer_config.json:   0%|          | 0.00/28.0 [00:00<?, ?B/s]"
            ]
          },
          "metadata": {},
          "output_type": "display_data"
        },
        {
          "data": {
            "application/vnd.jupyter.widget-view+json": {
              "model_id": "ae00daa7ef9e41eba22a172ba84735e8",
              "version_major": 2,
              "version_minor": 0
            },
            "text/plain": [
              "config.json:   0%|          | 0.00/385 [00:00<?, ?B/s]"
            ]
          },
          "metadata": {},
          "output_type": "display_data"
        },
        {
          "data": {
            "application/vnd.jupyter.widget-view+json": {
              "model_id": "72d6e3aa3641441a9198266656bae64c",
              "version_major": 2,
              "version_minor": 0
            },
            "text/plain": [
              "vocab.txt:   0%|          | 0.00/225k [00:00<?, ?B/s]"
            ]
          },
          "metadata": {},
          "output_type": "display_data"
        }
      ],
      "source": [
        "# Load tokenizer directly\n",
        "tokenizer = AutoTokenizer.from_pretrained(model_name, )\n",
        "\n",
        "max_length=128 #a typical value for short documents like abstracts"
      ]
    },
    {
      "cell_type": "markdown",
      "metadata": {
        "id": "MNHpgHi53K92"
      },
      "source": [
        "Tokenizing an entire corpus"
      ]
    },
    {
      "cell_type": "code",
      "execution_count": null,
      "metadata": {
        "id": "yJ2_rt9KFPAO"
      },
      "outputs": [],
      "source": [
        "MAX_LEN = max_length\n",
        "def do_tokenisation(texts, max_length):\n",
        "    if not texts:  # Check if texts is empty\n",
        "        return None\n",
        "\n",
        "    tokeniser_output = tokenizer(\n",
        "        texts,\n",
        "        padding='max_length',  # pad shorter sequences to max_length\n",
        "        truncation=True,  # truncate longer sequences to max_length\n",
        "        max_length=max_length\n",
        "    )\n",
        "\n",
        "    for encoding in tokeniser_output:\n",
        "        tokeniser_output[encoding] = torch.tensor(tokeniser_output[encoding])\n",
        "\n",
        "    return tokeniser_output\n",
        "\n",
        "train_tokeniser_output = do_tokenisation(df[df.Split == \"Train\"].Abstract_Cleaned.tolist(), MAX_LEN)\n",
        "valid_tokeniser_output = do_tokenisation(df[df.Split == \"Valid\"].Abstract_Cleaned.tolist(), MAX_LEN)\n",
        "test_tokeniser_output = do_tokenisation(df[df.Split == \"Test\"].Abstract_Cleaned.tolist(), MAX_LEN)"
      ]
    },
    {
      "cell_type": "markdown",
      "metadata": {
        "id": "xQiNot6L35C1"
      },
      "source": [
        "Example of the encodings produced by the tokenizer."
      ]
    },
    {
      "cell_type": "code",
      "execution_count": null,
      "metadata": {
        "colab": {
          "base_uri": "https://localhost:8080/"
        },
        "id": "FzkLERWw35m2",
        "outputId": "b581fdd1-bb44-4e9a-c821-59512f03d06b"
      },
      "outputs": [
        {
          "name": "stdout",
          "output_type": "stream",
          "text": [
            "Input sentence:\n",
            "U S government project bet big intranasal vaccine monoclonal antibody omit ambitious approach \n",
            "\n",
            "Tokens:\n",
            "['[CLS]', 'current', 'vaccine', 'tailor', 'combat', 'future', 'sars', 'cov', 'variant', '[SEP]', '[PAD]', '[PAD]', '[PAD]', '[PAD]', '[PAD]', '[PAD]', '[PAD]', '[PAD]', '[PAD]', '[PAD]', '[PAD]', '[PAD]', '[PAD]', '[PAD]', '[PAD]', '[PAD]', '[PAD]', '[PAD]', '[PAD]', '[PAD]', '[PAD]', '[PAD]', '[PAD]', '[PAD]', '[PAD]', '[PAD]', '[PAD]', '[PAD]', '[PAD]', '[PAD]', '[PAD]', '[PAD]', '[PAD]', '[PAD]', '[PAD]', '[PAD]', '[PAD]', '[PAD]', '[PAD]', '[PAD]', '[PAD]', '[PAD]', '[PAD]', '[PAD]', '[PAD]', '[PAD]', '[PAD]', '[PAD]', '[PAD]', '[PAD]', '[PAD]', '[PAD]', '[PAD]', '[PAD]', '[PAD]', '[PAD]', '[PAD]', '[PAD]', '[PAD]', '[PAD]', '[PAD]', '[PAD]', '[PAD]', '[PAD]', '[PAD]', '[PAD]', '[PAD]', '[PAD]', '[PAD]', '[PAD]', '[PAD]', '[PAD]', '[PAD]', '[PAD]', '[PAD]', '[PAD]', '[PAD]', '[PAD]', '[PAD]', '[PAD]', '[PAD]', '[PAD]', '[PAD]', '[PAD]', '[PAD]', '[PAD]', '[PAD]', '[PAD]', '[PAD]', '[PAD]', '[PAD]', '[PAD]', '[PAD]', '[PAD]', '[PAD]', '[PAD]', '[PAD]', '[PAD]', '[PAD]', '[PAD]', '[PAD]', '[PAD]', '[PAD]', '[PAD]', '[PAD]', '[PAD]', '[PAD]', '[PAD]', '[PAD]', '[PAD]', '[PAD]', '[PAD]', '[PAD]', '[PAD]', '[PAD]', '[PAD]', '[PAD]', '[PAD]']\n",
            "\n",
            "Input IDs:\n",
            "tensor([    2,  3040,  5275, 24857, 16288,  3886, 20397,  8550,  6903,     3,\n",
            "            0,     0,     0,     0,     0,     0,     0,     0,     0,     0,\n",
            "            0,     0,     0,     0,     0,     0,     0,     0,     0,     0,\n",
            "            0,     0,     0,     0,     0,     0,     0,     0,     0,     0,\n",
            "            0,     0,     0,     0,     0,     0,     0,     0,     0,     0,\n",
            "            0,     0,     0,     0,     0,     0,     0,     0,     0,     0,\n",
            "            0,     0,     0,     0,     0,     0,     0,     0,     0,     0,\n",
            "            0,     0,     0,     0,     0,     0,     0,     0,     0,     0,\n",
            "            0,     0,     0,     0,     0,     0,     0,     0,     0,     0,\n",
            "            0,     0,     0,     0,     0,     0,     0,     0,     0,     0,\n",
            "            0,     0,     0,     0,     0,     0,     0,     0,     0,     0,\n",
            "            0,     0,     0,     0,     0,     0,     0,     0,     0,     0,\n",
            "            0,     0,     0,     0,     0,     0,     0,     0])\n",
            "\n",
            "Attention Mask:\n",
            "tensor([1, 1, 1, 1, 1, 1, 1, 1, 1, 1, 0, 0, 0, 0, 0, 0, 0, 0, 0, 0, 0, 0, 0, 0,\n",
            "        0, 0, 0, 0, 0, 0, 0, 0, 0, 0, 0, 0, 0, 0, 0, 0, 0, 0, 0, 0, 0, 0, 0, 0,\n",
            "        0, 0, 0, 0, 0, 0, 0, 0, 0, 0, 0, 0, 0, 0, 0, 0, 0, 0, 0, 0, 0, 0, 0, 0,\n",
            "        0, 0, 0, 0, 0, 0, 0, 0, 0, 0, 0, 0, 0, 0, 0, 0, 0, 0, 0, 0, 0, 0, 0, 0,\n",
            "        0, 0, 0, 0, 0, 0, 0, 0, 0, 0, 0, 0, 0, 0, 0, 0, 0, 0, 0, 0, 0, 0, 0, 0,\n",
            "        0, 0, 0, 0, 0, 0, 0, 0])\n",
            "\n"
          ]
        }
      ],
      "source": [
        "batch_idx = 5\n",
        "original_sentence = df.Abstract_Cleaned[batch_idx]\n",
        "print(f'Input sentence:\\n{original_sentence}\\n')\n",
        "tokens = train_tokeniser_output.tokens(batch_idx)\n",
        "print(f'Tokens:\\n{tokens}\\n')\n",
        "input_ids = train_tokeniser_output['input_ids'][batch_idx]\n",
        "print(f'Input IDs:\\n{input_ids}\\n')\n",
        "attention_mask = train_tokeniser_output['attention_mask'][batch_idx]\n",
        "print(f'Attention Mask:\\n{attention_mask}\\n')"
      ]
    },
    {
      "cell_type": "code",
      "execution_count": null,
      "metadata": {
        "colab": {
          "base_uri": "https://localhost:8080/"
        },
        "id": "KdkkRc9YHT7S",
        "outputId": "1353170f-1b36-4c72-b696-528dabbe505a"
      },
      "outputs": [
        {
          "name": "stdout",
          "output_type": "stream",
          "text": [
            "Maximum length in the corpus: 153\n"
          ]
        }
      ],
      "source": [
        "max_len_corpus = max(len(tokenizer.encode(text)) for text in df['Abstract_Cleaned'])\n",
        "print(\"Maximum length in the corpus:\", max_len_corpus)\n"
      ]
    },
    {
      "cell_type": "markdown",
      "metadata": {
        "id": "gsAX8p_74HxP"
      },
      "source": [
        "## Language Model\n",
        "\n",
        " Hugging Face API to load the pre-trained weights of a transformer language model for inference."
      ]
    },
    {
      "cell_type": "code",
      "execution_count": null,
      "metadata": {
        "id": "tWiOdWCT5BYu"
      },
      "outputs": [],
      "source": [
        "from transformers import AutoConfig, AutoModelForSequenceClassification\n",
        "#AutoModelForSequenceClassification is an API that appends a linear classifer layer to\n",
        "#the classifier token of a BERT network. Alternately, one can do this onseself in torch\n",
        "#by creating a new class."
      ]
    },
    {
      "cell_type": "markdown",
      "metadata": {
        "id": "xOGCCwl75IFv"
      },
      "source": [
        "The ``config`` attribute contains hyperparameter values including vocabulary size, dropout probabilities, and architectural specifications"
      ]
    },
    {
      "cell_type": "code",
      "execution_count": null,
      "metadata": {
        "colab": {
          "base_uri": "https://localhost:8080/"
        },
        "id": "bUQYZGGu5EW5",
        "outputId": "392aa81b-59eb-4942-c9e7-2a009385d9d0"
      },
      "outputs": [
        {
          "name": "stdout",
          "output_type": "stream",
          "text": [
            "BertConfig {\n",
            "  \"architectures\": [\n",
            "    \"BertForMaskedLM\"\n",
            "  ],\n",
            "  \"attention_probs_dropout_prob\": 0.1,\n",
            "  \"classifier_dropout\": null,\n",
            "  \"hidden_act\": \"gelu\",\n",
            "  \"hidden_dropout_prob\": 0.1,\n",
            "  \"hidden_size\": 768,\n",
            "  \"initializer_range\": 0.02,\n",
            "  \"intermediate_size\": 3072,\n",
            "  \"layer_norm_eps\": 1e-12,\n",
            "  \"max_position_embeddings\": 512,\n",
            "  \"model_type\": \"bert\",\n",
            "  \"num_attention_heads\": 12,\n",
            "  \"num_hidden_layers\": 12,\n",
            "  \"pad_token_id\": 0,\n",
            "  \"position_embedding_type\": \"absolute\",\n",
            "  \"transformers_version\": \"4.50.3\",\n",
            "  \"type_vocab_size\": 2,\n",
            "  \"use_cache\": true,\n",
            "  \"vocab_size\": 30522\n",
            "}\n",
            "\n"
          ]
        }
      ],
      "source": [
        "model_config = AutoConfig.from_pretrained(model_name)\n",
        "print(model_config)"
      ]
    },
    {
      "cell_type": "code",
      "execution_count": null,
      "metadata": {
        "id": "yaauq_Lj5Yvu"
      },
      "outputs": [],
      "source": [
        "model_config.num_labels = 4"
      ]
    },
    {
      "cell_type": "markdown",
      "metadata": {
        "id": "WaT1x5VV5b78"
      },
      "source": [
        "The ``model`` object we use here is an instantiation of the pre-trained PubMedBert model with an extra classification layer added."
      ]
    },
    {
      "cell_type": "code",
      "execution_count": null,
      "metadata": {
        "id": "DK3Zqjpo5iHl"
      },
      "outputs": [],
      "source": [
        "model = AutoModelForSequenceClassification.from_config(model_config)"
      ]
    },
    {
      "cell_type": "code",
      "execution_count": null,
      "metadata": {
        "id": "9Hh2ZcQG50Uv"
      },
      "outputs": [],
      "source": [
        "# the constructor function requires the parameters of the language model and the learning rate as input\n",
        "\n",
        "optimizer = AdamW(tuple(model.parameters()), lr=2e-5)"
      ]
    },
    {
      "cell_type": "code",
      "execution_count": null,
      "metadata": {
        "id": "vtVZCuiu6Aat"
      },
      "outputs": [],
      "source": [
        "# here we define a simple subclass of the Pytorch Dataset object: the DataLoader by default will access the amount\n",
        "# of data points stored by instances of this subclass, as well as indexing it, so we have to overwrite the __len__\n",
        "# and __getitem__ methods to make sure it will behave as we would like\n",
        "\n",
        "class ClassificationDataset(Dataset):\n",
        "    def __init__(self, df, split):\n",
        "        super().__init__()\n",
        "        self.df = df[df.Split==split]\n",
        "        self.tokeniser_output = do_tokenisation(self.df.Abstract_Cleaned.tolist(), MAX_LEN)\n",
        "        self.labels = self.df.Year.values-2020\n",
        "\n",
        "    def __len__(self):\n",
        "        return len(self.df)\n",
        "\n",
        "    def __getitem__(self, idx: int):\n",
        "        input_ids, att_mask = self.tokeniser_output[\"input_ids\"][idx], self.tokeniser_output[\"attention_mask\"][idx]\n",
        "        label = self.labels[idx]\n",
        "        return (input_ids, att_mask, label)\n",
        "\n",
        "train_dataset = ClassificationDataset(df,\"Train\")\n",
        "valid_dataset = ClassificationDataset(df,\"Valid\")"
      ]
    },
    {
      "cell_type": "code",
      "execution_count": null,
      "metadata": {
        "id": "SOx4fdqp8-uj"
      },
      "outputs": [],
      "source": [
        "BATCH_SIZE = 4\n",
        "\n",
        "train_dataloader = DataLoader(train_dataset, batch_size=BATCH_SIZE)\n",
        "valid_dataloader = DataLoader(valid_dataset, batch_size=BATCH_SIZE)"
      ]
    },
    {
      "cell_type": "markdown",
      "metadata": {
        "id": "Efc0UC7r7NQe"
      },
      "source": [
        "## Training a Classifier\n",
        "To fine-tune the PubMedBert word embeddings for our document classification task, we use the ``[CLS]`` token from the final layer of the transformer neural network to predict the relevant class for each sentence. To output class probabilities based on the word embedding vectors, a linear prediction layer is stacked on top of the transformer network, which will learn weight parameters $w$ that correspond to the optimal transformation of the ``[CLS]`` vector into a vector of scores for each class in the output space (usually called _logits_). To generate class probabilities from the logit vector, the [softmax function](https://en.wikipedia.org/wiki/Softmax_function) is applied:\n",
        "\n",
        "$$\n",
        "\\phi_w:\\mathbb{R}^{d_{\\text{EMB}}}\\rightarrow\\mathbb{R}^{d_{\\text{CLASS}}} \\\\\n",
        "\\text{Classifier}\\left(x_{\\text{CLS}}\\right)=\\text{softmax}\\left(\\phi_w\\left(x_{\\text{CLS}}\\right)\\right)\n",
        "$$\n",
        "\n",
        "For the model we use in this tutorial, we have embedding dimension $d_{\\text{EMB}}=768$ and because we have ten hallmarks of cancer plus the absence of a hallmark, we have output dimension $d_{\\text{CLASS}}=4$.\n",
        "\n",
        "To predict a single class, however, we just need to pick out the dimension of the logit vector with the highest score:\n",
        "\n",
        "$$\\text{Predicted Class}=\\text{argmax}\\left(\\phi\\left(x_{\\text{CLS}}\\right)\\right)$$\n"
      ]
    },
    {
      "cell_type": "code",
      "execution_count": null,
      "metadata": {
        "colab": {
          "base_uri": "https://localhost:8080/"
        },
        "id": "BFWAyhZ-tEDR",
        "outputId": "1fff60aa-c011-45e6-e110-8ea9cd497d77"
      },
      "outputs": [
        {
          "data": {
            "text/plain": [
              "BertForSequenceClassification(\n",
              "  (bert): BertModel(\n",
              "    (embeddings): BertEmbeddings(\n",
              "      (word_embeddings): Embedding(30522, 768, padding_idx=0)\n",
              "      (position_embeddings): Embedding(512, 768)\n",
              "      (token_type_embeddings): Embedding(2, 768)\n",
              "      (LayerNorm): LayerNorm((768,), eps=1e-12, elementwise_affine=True)\n",
              "      (dropout): Dropout(p=0.1, inplace=False)\n",
              "    )\n",
              "    (encoder): BertEncoder(\n",
              "      (layer): ModuleList(\n",
              "        (0-11): 12 x BertLayer(\n",
              "          (attention): BertAttention(\n",
              "            (self): BertSdpaSelfAttention(\n",
              "              (query): Linear(in_features=768, out_features=768, bias=True)\n",
              "              (key): Linear(in_features=768, out_features=768, bias=True)\n",
              "              (value): Linear(in_features=768, out_features=768, bias=True)\n",
              "              (dropout): Dropout(p=0.1, inplace=False)\n",
              "            )\n",
              "            (output): BertSelfOutput(\n",
              "              (dense): Linear(in_features=768, out_features=768, bias=True)\n",
              "              (LayerNorm): LayerNorm((768,), eps=1e-12, elementwise_affine=True)\n",
              "              (dropout): Dropout(p=0.1, inplace=False)\n",
              "            )\n",
              "          )\n",
              "          (intermediate): BertIntermediate(\n",
              "            (dense): Linear(in_features=768, out_features=3072, bias=True)\n",
              "            (intermediate_act_fn): GELUActivation()\n",
              "          )\n",
              "          (output): BertOutput(\n",
              "            (dense): Linear(in_features=3072, out_features=768, bias=True)\n",
              "            (LayerNorm): LayerNorm((768,), eps=1e-12, elementwise_affine=True)\n",
              "            (dropout): Dropout(p=0.1, inplace=False)\n",
              "          )\n",
              "        )\n",
              "      )\n",
              "    )\n",
              "    (pooler): BertPooler(\n",
              "      (dense): Linear(in_features=768, out_features=768, bias=True)\n",
              "      (activation): Tanh()\n",
              "    )\n",
              "  )\n",
              "  (dropout): Dropout(p=0.1, inplace=False)\n",
              "  (classifier): Linear(in_features=768, out_features=4, bias=True)\n",
              ")"
            ]
          },
          "execution_count": 25,
          "metadata": {},
          "output_type": "execute_result"
        }
      ],
      "source": [
        "model.to(device)"
      ]
    },
    {
      "cell_type": "code",
      "execution_count": null,
      "metadata": {
        "id": "jhMS67oC7n-n"
      },
      "outputs": [],
      "source": [
        "N_EPOCHS = 20"
      ]
    },
    {
      "cell_type": "markdown",
      "metadata": {
        "id": "E0vkWi5sL4f5"
      },
      "source": [
        "Training the model from scratch using PubmedBERT model configuration without pretrained weights"
      ]
    },
    {
      "cell_type": "code",
      "execution_count": null,
      "metadata": {
        "colab": {
          "base_uri": "https://localhost:8080/"
        },
        "id": "IVuvcBzZ8VKZ",
        "outputId": "a6eb7625-fa49-4e17-e48c-a27962c39a2b"
      },
      "outputs": [
        {
          "name": "stdout",
          "output_type": "stream",
          "text": [
            "Epoch 0, training...\n"
          ]
        },
        {
          "name": "stderr",
          "output_type": "stream",
          "text": [
            "100%|██████████| 12/12 [00:04<00:00,  3.00it/s]\n"
          ]
        },
        {
          "name": "stdout",
          "output_type": "stream",
          "text": [
            "Epoch 0, evaluating...\n"
          ]
        },
        {
          "name": "stderr",
          "output_type": "stream",
          "text": [
            "100%|██████████| 2/2 [00:00<00:00, 13.03it/s]\n"
          ]
        },
        {
          "name": "stdout",
          "output_type": "stream",
          "text": [
            "Epoch 0: training set F1=0.19, validation set F1=0.074\n",
            "Epoch 1, training...\n"
          ]
        },
        {
          "name": "stderr",
          "output_type": "stream",
          "text": [
            "100%|██████████| 12/12 [00:03<00:00,  3.03it/s]\n"
          ]
        },
        {
          "name": "stdout",
          "output_type": "stream",
          "text": [
            "Epoch 1, evaluating...\n"
          ]
        },
        {
          "name": "stderr",
          "output_type": "stream",
          "text": [
            "100%|██████████| 2/2 [00:00<00:00, 13.59it/s]\n"
          ]
        },
        {
          "name": "stdout",
          "output_type": "stream",
          "text": [
            "Epoch 1: training set F1=0.267, validation set F1=0.167\n",
            "Epoch 2, training...\n"
          ]
        },
        {
          "name": "stderr",
          "output_type": "stream",
          "text": [
            "100%|██████████| 12/12 [00:03<00:00,  3.01it/s]\n"
          ]
        },
        {
          "name": "stdout",
          "output_type": "stream",
          "text": [
            "Epoch 2, evaluating...\n"
          ]
        },
        {
          "name": "stderr",
          "output_type": "stream",
          "text": [
            "100%|██████████| 2/2 [00:00<00:00, 13.30it/s]\n"
          ]
        },
        {
          "name": "stdout",
          "output_type": "stream",
          "text": [
            "Epoch 2: training set F1=0.264, validation set F1=0.53\n",
            "Epoch 3, training...\n"
          ]
        },
        {
          "name": "stderr",
          "output_type": "stream",
          "text": [
            "100%|██████████| 12/12 [00:03<00:00,  3.02it/s]\n"
          ]
        },
        {
          "name": "stdout",
          "output_type": "stream",
          "text": [
            "Epoch 3, evaluating...\n"
          ]
        },
        {
          "name": "stderr",
          "output_type": "stream",
          "text": [
            "100%|██████████| 2/2 [00:00<00:00, 12.46it/s]\n"
          ]
        },
        {
          "name": "stdout",
          "output_type": "stream",
          "text": [
            "Epoch 3: training set F1=0.214, validation set F1=0.167\n",
            "Epoch 4, training...\n"
          ]
        },
        {
          "name": "stderr",
          "output_type": "stream",
          "text": [
            "100%|██████████| 12/12 [00:04<00:00,  2.99it/s]\n"
          ]
        },
        {
          "name": "stdout",
          "output_type": "stream",
          "text": [
            "Epoch 4, evaluating...\n"
          ]
        },
        {
          "name": "stderr",
          "output_type": "stream",
          "text": [
            "100%|██████████| 2/2 [00:00<00:00, 12.96it/s]\n"
          ]
        },
        {
          "name": "stdout",
          "output_type": "stream",
          "text": [
            "Epoch 4: training set F1=0.195, validation set F1=0.167\n",
            "Epoch 5, training...\n"
          ]
        },
        {
          "name": "stderr",
          "output_type": "stream",
          "text": [
            "100%|██████████| 12/12 [00:03<00:00,  3.04it/s]\n"
          ]
        },
        {
          "name": "stdout",
          "output_type": "stream",
          "text": [
            "Epoch 5, evaluating...\n"
          ]
        },
        {
          "name": "stderr",
          "output_type": "stream",
          "text": [
            "100%|██████████| 2/2 [00:00<00:00, 12.59it/s]\n"
          ]
        },
        {
          "name": "stdout",
          "output_type": "stream",
          "text": [
            "Epoch 5: training set F1=0.322, validation set F1=0.167\n",
            "Epoch 6, training...\n"
          ]
        },
        {
          "name": "stderr",
          "output_type": "stream",
          "text": [
            "100%|██████████| 12/12 [00:04<00:00,  2.97it/s]\n"
          ]
        },
        {
          "name": "stdout",
          "output_type": "stream",
          "text": [
            "Epoch 6, evaluating...\n"
          ]
        },
        {
          "name": "stderr",
          "output_type": "stream",
          "text": [
            "100%|██████████| 2/2 [00:00<00:00, 13.17it/s]\n"
          ]
        },
        {
          "name": "stdout",
          "output_type": "stream",
          "text": [
            "Epoch 6: training set F1=0.229, validation set F1=0.167\n",
            "Epoch 7, training...\n"
          ]
        },
        {
          "name": "stderr",
          "output_type": "stream",
          "text": [
            "100%|██████████| 12/12 [00:04<00:00,  2.92it/s]\n"
          ]
        },
        {
          "name": "stdout",
          "output_type": "stream",
          "text": [
            "Epoch 7, evaluating...\n"
          ]
        },
        {
          "name": "stderr",
          "output_type": "stream",
          "text": [
            "100%|██████████| 2/2 [00:00<00:00, 12.19it/s]\n"
          ]
        },
        {
          "name": "stdout",
          "output_type": "stream",
          "text": [
            "Epoch 7: training set F1=0.303, validation set F1=0.53\n",
            "Epoch 8, training...\n"
          ]
        },
        {
          "name": "stderr",
          "output_type": "stream",
          "text": [
            "100%|██████████| 12/12 [00:04<00:00,  2.98it/s]\n"
          ]
        },
        {
          "name": "stdout",
          "output_type": "stream",
          "text": [
            "Epoch 8, evaluating...\n"
          ]
        },
        {
          "name": "stderr",
          "output_type": "stream",
          "text": [
            "100%|██████████| 2/2 [00:00<00:00, 12.70it/s]\n"
          ]
        },
        {
          "name": "stdout",
          "output_type": "stream",
          "text": [
            "Epoch 8: training set F1=0.273, validation set F1=0.167\n",
            "Epoch 9, training...\n"
          ]
        },
        {
          "name": "stderr",
          "output_type": "stream",
          "text": [
            "100%|██████████| 12/12 [00:03<00:00,  3.00it/s]\n"
          ]
        },
        {
          "name": "stdout",
          "output_type": "stream",
          "text": [
            "Epoch 9, evaluating...\n"
          ]
        },
        {
          "name": "stderr",
          "output_type": "stream",
          "text": [
            "100%|██████████| 2/2 [00:00<00:00, 12.97it/s]\n"
          ]
        },
        {
          "name": "stdout",
          "output_type": "stream",
          "text": [
            "Epoch 9: training set F1=0.215, validation set F1=0.448\n",
            "Epoch 10, training...\n"
          ]
        },
        {
          "name": "stderr",
          "output_type": "stream",
          "text": [
            "100%|██████████| 12/12 [00:03<00:00,  3.00it/s]\n"
          ]
        },
        {
          "name": "stdout",
          "output_type": "stream",
          "text": [
            "Epoch 10, evaluating...\n"
          ]
        },
        {
          "name": "stderr",
          "output_type": "stream",
          "text": [
            "100%|██████████| 2/2 [00:00<00:00, 12.82it/s]\n"
          ]
        },
        {
          "name": "stdout",
          "output_type": "stream",
          "text": [
            "Epoch 10: training set F1=0.256, validation set F1=0.167\n",
            "Epoch 11, training...\n"
          ]
        },
        {
          "name": "stderr",
          "output_type": "stream",
          "text": [
            "100%|██████████| 12/12 [00:03<00:00,  3.01it/s]\n"
          ]
        },
        {
          "name": "stdout",
          "output_type": "stream",
          "text": [
            "Epoch 11, evaluating...\n"
          ]
        },
        {
          "name": "stderr",
          "output_type": "stream",
          "text": [
            "100%|██████████| 2/2 [00:00<00:00, 13.60it/s]\n"
          ]
        },
        {
          "name": "stdout",
          "output_type": "stream",
          "text": [
            "Epoch 11: training set F1=0.225, validation set F1=0.167\n",
            "Epoch 12, training...\n"
          ]
        },
        {
          "name": "stderr",
          "output_type": "stream",
          "text": [
            "100%|██████████| 12/12 [00:03<00:00,  3.03it/s]\n"
          ]
        },
        {
          "name": "stdout",
          "output_type": "stream",
          "text": [
            "Epoch 12, evaluating...\n"
          ]
        },
        {
          "name": "stderr",
          "output_type": "stream",
          "text": [
            "100%|██████████| 2/2 [00:00<00:00, 13.14it/s]\n"
          ]
        },
        {
          "name": "stdout",
          "output_type": "stream",
          "text": [
            "Epoch 12: training set F1=0.327, validation set F1=0.167\n",
            "Epoch 13, training...\n"
          ]
        },
        {
          "name": "stderr",
          "output_type": "stream",
          "text": [
            "100%|██████████| 12/12 [00:03<00:00,  3.02it/s]\n"
          ]
        },
        {
          "name": "stdout",
          "output_type": "stream",
          "text": [
            "Epoch 13, evaluating...\n"
          ]
        },
        {
          "name": "stderr",
          "output_type": "stream",
          "text": [
            "100%|██████████| 2/2 [00:00<00:00, 13.21it/s]\n"
          ]
        },
        {
          "name": "stdout",
          "output_type": "stream",
          "text": [
            "Epoch 13: training set F1=0.24, validation set F1=0.167\n",
            "Epoch 14, training...\n"
          ]
        },
        {
          "name": "stderr",
          "output_type": "stream",
          "text": [
            "100%|██████████| 12/12 [00:03<00:00,  3.03it/s]\n"
          ]
        },
        {
          "name": "stdout",
          "output_type": "stream",
          "text": [
            "Epoch 14, evaluating...\n"
          ]
        },
        {
          "name": "stderr",
          "output_type": "stream",
          "text": [
            "100%|██████████| 2/2 [00:00<00:00, 13.08it/s]\n"
          ]
        },
        {
          "name": "stdout",
          "output_type": "stream",
          "text": [
            "Epoch 14: training set F1=0.242, validation set F1=0.167\n",
            "Epoch 15, training...\n"
          ]
        },
        {
          "name": "stderr",
          "output_type": "stream",
          "text": [
            "100%|██████████| 12/12 [00:03<00:00,  3.05it/s]\n"
          ]
        },
        {
          "name": "stdout",
          "output_type": "stream",
          "text": [
            "Epoch 15, evaluating...\n"
          ]
        },
        {
          "name": "stderr",
          "output_type": "stream",
          "text": [
            "100%|██████████| 2/2 [00:00<00:00, 12.49it/s]\n"
          ]
        },
        {
          "name": "stdout",
          "output_type": "stream",
          "text": [
            "Epoch 15: training set F1=0.299, validation set F1=0.167\n",
            "Epoch 16, training...\n"
          ]
        },
        {
          "name": "stderr",
          "output_type": "stream",
          "text": [
            "100%|██████████| 12/12 [00:03<00:00,  3.06it/s]\n"
          ]
        },
        {
          "name": "stdout",
          "output_type": "stream",
          "text": [
            "Epoch 16, evaluating...\n"
          ]
        },
        {
          "name": "stderr",
          "output_type": "stream",
          "text": [
            "100%|██████████| 2/2 [00:00<00:00, 13.21it/s]\n"
          ]
        },
        {
          "name": "stdout",
          "output_type": "stream",
          "text": [
            "Epoch 16: training set F1=0.316, validation set F1=0.167\n",
            "Epoch 17, training...\n"
          ]
        },
        {
          "name": "stderr",
          "output_type": "stream",
          "text": [
            "100%|██████████| 12/12 [00:03<00:00,  3.08it/s]\n"
          ]
        },
        {
          "name": "stdout",
          "output_type": "stream",
          "text": [
            "Epoch 17, evaluating...\n"
          ]
        },
        {
          "name": "stderr",
          "output_type": "stream",
          "text": [
            "100%|██████████| 2/2 [00:00<00:00, 13.20it/s]\n"
          ]
        },
        {
          "name": "stdout",
          "output_type": "stream",
          "text": [
            "Epoch 17: training set F1=0.216, validation set F1=0.167\n",
            "Epoch 18, training...\n"
          ]
        },
        {
          "name": "stderr",
          "output_type": "stream",
          "text": [
            "100%|██████████| 12/12 [00:03<00:00,  3.06it/s]\n"
          ]
        },
        {
          "name": "stdout",
          "output_type": "stream",
          "text": [
            "Epoch 18, evaluating...\n"
          ]
        },
        {
          "name": "stderr",
          "output_type": "stream",
          "text": [
            "100%|██████████| 2/2 [00:00<00:00, 13.57it/s]\n"
          ]
        },
        {
          "name": "stdout",
          "output_type": "stream",
          "text": [
            "Epoch 18: training set F1=0.266, validation set F1=0.53\n",
            "Epoch 19, training...\n"
          ]
        },
        {
          "name": "stderr",
          "output_type": "stream",
          "text": [
            "100%|██████████| 12/12 [00:03<00:00,  3.06it/s]\n"
          ]
        },
        {
          "name": "stdout",
          "output_type": "stream",
          "text": [
            "Epoch 19, evaluating...\n"
          ]
        },
        {
          "name": "stderr",
          "output_type": "stream",
          "text": [
            "100%|██████████| 2/2 [00:00<00:00, 13.48it/s]"
          ]
        },
        {
          "name": "stdout",
          "output_type": "stream",
          "text": [
            "Epoch 19: training set F1=0.327, validation set F1=0.167\n"
          ]
        },
        {
          "name": "stderr",
          "output_type": "stream",
          "text": [
            "\n"
          ]
        }
      ],
      "source": [
        "criterion = torch.nn.CrossEntropyLoss()\n",
        "\n",
        "def train_model(model=None):\n",
        "    total_train_f1 = []\n",
        "    total_valid_f1 = []\n",
        "    total_train_loss = []\n",
        "    total_valid_loss = []\n",
        "\n",
        "    # reset the model if you run this cell more than once!\n",
        "    if model is None:\n",
        "        model = AutoModelForSequenceClassification.from_config(model_config).to(device)\n",
        "    optimizer = AdamW(tuple(model.parameters()), lr=2e-5)\n",
        "\n",
        "    for epoch in range(N_EPOCHS):\n",
        "        model.train()\n",
        "        train_f1 = []\n",
        "        train_loss = []\n",
        "        valid_f1 = []\n",
        "        valid_loss = []\n",
        "        print(f'Epoch {epoch}, training...')\n",
        "\n",
        "        # Training data\n",
        "        for input_ids, attention_masks, labels in tqdm(train_dataloader):\n",
        "            # forward pass\n",
        "            input_ids = input_ids.to(device)\n",
        "            attention_masks = attention_masks.to(device)\n",
        "            labels = labels.to(device)\n",
        "            outputs = model(\n",
        "                input_ids=input_ids, attention_mask=attention_masks, labels=labels\n",
        "            )\n",
        "\n",
        "            # backpropagation\n",
        "            loss = criterion(outputs.logits, labels)\n",
        "            loss.backward()\n",
        "            optimizer.step()\n",
        "            optimizer.zero_grad()\n",
        "\n",
        "            # metrics\n",
        "            predictions = outputs.logits.argmax(-1)\n",
        "            f1 = f1_score(labels.cpu(), predictions.cpu(), average='weighted')\n",
        "            logits = outputs.logits.cpu()  # retrieve data from the GPU\n",
        "            labels = labels.cpu()\n",
        "            predictions = logits.argmax(-1)\n",
        "            train_f1.append(f1)\n",
        "            train_loss.append(loss.item())\n",
        "\n",
        "        epoch_f1_train = sum(train_f1) / len(train_f1)\n",
        "        epoch_loss_train = sum(train_loss) / len(train_loss)\n",
        "        total_train_f1.append(epoch_f1_train)\n",
        "        total_train_loss.append(epoch_loss_train)\n",
        "\n",
        "        model.eval()\n",
        "        print(f'Epoch {epoch}, evaluating...')\n",
        "        # Validation data\n",
        "        for input_ids, attention_masks, labels in tqdm(valid_dataloader):\n",
        "            with torch.no_grad():  # this context manager deactivates the backpropagation-related elements of the tensors\n",
        "                outputs = model(\n",
        "                    input_ids=input_ids.to(device), attention_mask=attention_masks.to(device)\n",
        "                )\n",
        "                loss = criterion(outputs.logits, labels.to(device))\n",
        "                predictions = outputs.logits.argmax(-1)\n",
        "                f1 = f1_score(labels.cpu(), predictions.cpu(), average='weighted')\n",
        "                valid_f1.append(f1)\n",
        "                valid_loss.append(loss.item())\n",
        "\n",
        "        epoch_f1_valid = sum(valid_f1) / len(valid_f1)\n",
        "        epoch_loss_valid = sum(valid_loss) / len(valid_loss)\n",
        "        total_valid_f1.append(epoch_f1_valid)\n",
        "        total_valid_loss.append(epoch_loss_valid)\n",
        "        print(f'Epoch {epoch}: training set F1={round(epoch_f1_train, 3)}, validation set F1={round(epoch_f1_valid, 3)}')\n",
        "\n",
        "    return model, total_train_f1, total_valid_f1, total_train_loss, total_valid_loss\n",
        "\n",
        "model, total_train_f1, total_valid_f1, total_train_loss, total_valid_loss = train_model()\n"
      ]
    },
    {
      "cell_type": "code",
      "execution_count": null,
      "metadata": {
        "colab": {
          "base_uri": "https://localhost:8080/",
          "height": 524
        },
        "id": "_RgkjcK_Lv9L",
        "outputId": "49f34601-02ac-4747-f9dd-799df96071dc"
      },
      "outputs": [
        {
          "name": "stderr",
          "output_type": "stream",
          "text": [
            "<ipython-input-39-7391fb8bfe20>:8: UserWarning: No artists with labels found to put in legend.  Note that artists whose label start with an underscore are ignored when legend() is called with no argument.\n",
            "  ax.legend()\n"
          ]
        },
        {
          "data": {
            "text/plain": [
              "<matplotlib.legend.Legend at 0x7d9eaa2b5890>"
            ]
          },
          "execution_count": 39,
          "metadata": {},
          "output_type": "execute_result"
        },
        {
          "data": {
            "image/png": "[encoded data removed]",
            "text/plain": [
              "<Figure size 640x480 with 2 Axes>"
            ]
          },
          "metadata": {},
          "output_type": "display_data"
        }
      ],
      "source": [
        "ax = plt.gca()\n",
        "twinx = ax.twinx()\n",
        "twinx.plot(total_train_loss,label=\"Loss Train\", linestyle=\"dashed\")\n",
        "twinx.plot(total_valid_loss,label=\"Loss Valid\", linestyle=\"dashed\")\n",
        "plt.xlabel(\"Epoch\")\n",
        "plt.ylabel(\"F1/Loss\")\n",
        "plt.title(\"Evolution of training and validation performances over time\")\n",
        "ax.legend()\n",
        "twinx.legend()"
      ]
    },
    {
      "cell_type": "code",
      "execution_count": null,
      "metadata": {
        "colab": {
          "base_uri": "https://localhost:8080/",
          "height": 668
        },
        "id": "_RVcKHemJvKz",
        "outputId": "17fa8948-0c80-49a3-ddd9-32f861d26811"
      },
      "outputs": [
        {
          "name": "stderr",
          "output_type": "stream",
          "text": [
            "100%|██████████| 6/6 [00:00<00:00, 24.68it/s]\n"
          ]
        },
        {
          "name": "stdout",
          "output_type": "stream",
          "text": [
            "Confusion Matrix for PubMedBert:\n",
            "[[0 9 0 0]\n",
            " [0 6 0 0]\n",
            " [0 6 0 0]\n",
            " [0 1 0 0]]\n"
          ]
        },
        {
          "data": {
            "image/png": "[encoded data removed]",
            "text/plain": [
              "<Figure size 800x600 with 2 Axes>"
            ]
          },
          "metadata": {},
          "output_type": "display_data"
        }
      ],
      "source": [
        "#For PubMedBert\n",
        "from sklearn.metrics import confusion_matrix\n",
        "import seaborn as sns\n",
        "\n",
        "# Function to get predictions from the model\n",
        "def get_predictions(model, dataloader):\n",
        "    predictions = []\n",
        "    true_labels = []\n",
        "\n",
        "    model.eval()\n",
        "    with torch.no_grad():\n",
        "        for input_ids, attention_masks, labels in tqdm(dataloader):\n",
        "            outputs = model(\n",
        "                input_ids=input_ids.to(device), attention_mask=attention_masks.to(device)\n",
        "            )\n",
        "            predictions.extend(outputs.logits.argmax(-1).cpu().numpy())\n",
        "            true_labels.extend(labels.numpy())\n",
        "\n",
        "    return np.array(predictions), np.array(true_labels)\n",
        "\n",
        "# Get predictions for the test set\n",
        "test_dataset = ClassificationDataset(df, \"Test\")\n",
        "test_dataloader = DataLoader(test_dataset, batch_size=BATCH_SIZE)\n",
        "predictions_bert, true_labels_bert = get_predictions(model, test_dataloader)\n",
        "\n",
        "# Confusion matrix for PubMedBert\n",
        "cm_bert = confusion_matrix(true_labels_bert, predictions_bert)\n",
        "print(\"Confusion Matrix for PubMedBert:\")\n",
        "print(cm_bert)\n",
        "\n",
        "# Visualize the confusion matrix using Seaborn's heatmap\n",
        "plt.figure(figsize=(8, 6))\n",
        "sns.heatmap(cm_bert, annot=True, fmt=\"d\", cmap=\"Blues\", xticklabels=[\"Class 0\", \"Class 1\", \"Class 2\", \"Class 3\"],\n",
        "            yticklabels=[\"Class 0\", \"Class 1\", \"Class 2\", \"Class 3\"])\n",
        "plt.title(\"Confusion Matrix for PubMedBert without pretrained weights\")\n",
        "plt.xlabel(\"Predicted Class\")\n",
        "plt.ylabel(\"True Class\")\n",
        "plt.show()\n"
      ]
    },
    {
      "cell_type": "markdown",
      "metadata": {
        "id": "xpnB_5VMO0GS"
      },
      "source": [
        "The results here show that the model is heavily biased towards class 1 and sample size is too little to train the model from scratch"
      ]
    },
    {
      "cell_type": "markdown",
      "metadata": {
        "id": "ErlSprs5IC2S"
      },
      "source": [
        "# **Using BiomedBERT with pretrained weights**"
      ]
    },
    {
      "cell_type": "code",
      "execution_count": null,
      "metadata": {
        "colab": {
          "base_uri": "https://localhost:8080/",
          "height": 1000
        },
        "id": "P1qyu4QEH644",
        "outputId": "32afd0c9-b05f-4c52-c8b6-6430e6085787"
      },
      "outputs": [
        {
          "name": "stdout",
          "output_type": "stream",
          "text": [
            "Running on: cuda\n",
            "Training with pretrained weights...\n"
          ]
        },
        {
          "name": "stderr",
          "output_type": "stream",
          "text": [
            "Some weights of BertForSequenceClassification were not initialized from the model checkpoint at microsoft/BiomedNLP-BiomedBERT-base-uncased-abstract and are newly initialized: ['classifier.bias', 'classifier.weight']\n",
            "You should probably TRAIN this model on a down-stream task to be able to use it for predictions and inference.\n",
            "Epoch 0 Training: 100%|██████████| 12/12 [00:03<00:00,  3.07it/s]\n",
            "Epoch 0 Validation: 100%|██████████| 2/2 [00:00<00:00, 14.41it/s]\n"
          ]
        },
        {
          "name": "stdout",
          "output_type": "stream",
          "text": [
            "Epoch 0: train F1=0.261, valid F1=0.427\n",
            "New best validation F1: 0.427, model saved\n"
          ]
        },
        {
          "name": "stderr",
          "output_type": "stream",
          "text": [
            "Epoch 1 Training: 100%|██████████| 12/12 [00:03<00:00,  3.04it/s]\n",
            "Epoch 1 Validation: 100%|██████████| 2/2 [00:00<00:00, 14.07it/s]\n"
          ]
        },
        {
          "name": "stdout",
          "output_type": "stream",
          "text": [
            "Epoch 1: train F1=0.480, valid F1=0.610\n",
            "New best validation F1: 0.610, model saved\n"
          ]
        },
        {
          "name": "stderr",
          "output_type": "stream",
          "text": [
            "Epoch 2 Training: 100%|██████████| 12/12 [00:03<00:00,  3.03it/s]\n",
            "Epoch 2 Validation: 100%|██████████| 2/2 [00:00<00:00, 14.18it/s]\n"
          ]
        },
        {
          "name": "stdout",
          "output_type": "stream",
          "text": [
            "Epoch 2: train F1=0.481, valid F1=0.656\n",
            "New best validation F1: 0.656, model saved\n"
          ]
        },
        {
          "name": "stderr",
          "output_type": "stream",
          "text": [
            "Epoch 3 Training: 100%|██████████| 12/12 [00:03<00:00,  3.07it/s]\n",
            "Epoch 3 Validation: 100%|██████████| 2/2 [00:00<00:00, 13.55it/s]\n"
          ]
        },
        {
          "name": "stdout",
          "output_type": "stream",
          "text": [
            "Epoch 3: train F1=0.715, valid F1=0.643\n",
            "No improvement in validation F1, patience counter: 1/4\n"
          ]
        },
        {
          "name": "stderr",
          "output_type": "stream",
          "text": [
            "Epoch 4 Training: 100%|██████████| 12/12 [00:03<00:00,  3.05it/s]\n",
            "Epoch 4 Validation: 100%|██████████| 2/2 [00:00<00:00, 14.20it/s]\n"
          ]
        },
        {
          "name": "stdout",
          "output_type": "stream",
          "text": [
            "Epoch 4: train F1=0.780, valid F1=0.657\n",
            "New best validation F1: 0.657, model saved\n"
          ]
        },
        {
          "name": "stderr",
          "output_type": "stream",
          "text": [
            "Epoch 5 Training: 100%|██████████| 12/12 [00:03<00:00,  3.01it/s]\n",
            "Epoch 5 Validation: 100%|██████████| 2/2 [00:00<00:00, 12.79it/s]\n"
          ]
        },
        {
          "name": "stdout",
          "output_type": "stream",
          "text": [
            "Epoch 5: train F1=0.870, valid F1=0.687\n",
            "New best validation F1: 0.687, model saved\n"
          ]
        },
        {
          "name": "stderr",
          "output_type": "stream",
          "text": [
            "Epoch 6 Training: 100%|██████████| 12/12 [00:04<00:00,  2.82it/s]\n",
            "Epoch 6 Validation: 100%|██████████| 2/2 [00:00<00:00, 13.43it/s]\n"
          ]
        },
        {
          "name": "stdout",
          "output_type": "stream",
          "text": [
            "Epoch 6: train F1=0.919, valid F1=0.702\n",
            "New best validation F1: 0.702, model saved\n"
          ]
        },
        {
          "name": "stderr",
          "output_type": "stream",
          "text": [
            "Epoch 7 Training: 100%|██████████| 12/12 [00:04<00:00,  2.97it/s]\n",
            "Epoch 7 Validation: 100%|██████████| 2/2 [00:00<00:00, 13.27it/s]\n"
          ]
        },
        {
          "name": "stdout",
          "output_type": "stream",
          "text": [
            "Epoch 7: train F1=0.943, valid F1=0.764\n",
            "New best validation F1: 0.764, model saved\n"
          ]
        },
        {
          "name": "stderr",
          "output_type": "stream",
          "text": [
            "Epoch 8 Training: 100%|██████████| 12/12 [00:04<00:00,  2.88it/s]\n",
            "Epoch 8 Validation: 100%|██████████| 2/2 [00:00<00:00, 13.44it/s]\n"
          ]
        },
        {
          "name": "stdout",
          "output_type": "stream",
          "text": [
            "Epoch 8: train F1=0.994, valid F1=0.755\n",
            "No improvement in validation F1, patience counter: 1/4\n"
          ]
        },
        {
          "name": "stderr",
          "output_type": "stream",
          "text": [
            "Epoch 9 Training: 100%|██████████| 12/12 [00:04<00:00,  2.97it/s]\n",
            "Epoch 9 Validation: 100%|██████████| 2/2 [00:00<00:00, 12.94it/s]\n"
          ]
        },
        {
          "name": "stdout",
          "output_type": "stream",
          "text": [
            "Epoch 9: train F1=1.000, valid F1=0.703\n",
            "No improvement in validation F1, patience counter: 2/4\n"
          ]
        },
        {
          "name": "stderr",
          "output_type": "stream",
          "text": [
            "Epoch 10 Training: 100%|██████████| 12/12 [00:04<00:00,  2.96it/s]\n",
            "Epoch 10 Validation: 100%|██████████| 2/2 [00:00<00:00, 13.31it/s]\n"
          ]
        },
        {
          "name": "stdout",
          "output_type": "stream",
          "text": [
            "Epoch 10: train F1=1.000, valid F1=0.734\n",
            "No improvement in validation F1, patience counter: 3/4\n"
          ]
        },
        {
          "name": "stderr",
          "output_type": "stream",
          "text": [
            "Epoch 11 Training: 100%|██████████| 12/12 [00:04<00:00,  2.86it/s]\n",
            "Epoch 11 Validation: 100%|██████████| 2/2 [00:00<00:00, 13.52it/s]\n"
          ]
        },
        {
          "name": "stdout",
          "output_type": "stream",
          "text": [
            "Epoch 11: train F1=1.000, valid F1=0.700\n",
            "No improvement in validation F1, patience counter: 4/4\n",
            "Early stopping triggered\n"
          ]
        },
        {
          "name": "stderr",
          "output_type": "stream",
          "text": [
            "Getting Predictions: 100%|██████████| 2/2 [00:00<00:00, 14.74it/s]\n"
          ]
        },
        {
          "name": "stdout",
          "output_type": "stream",
          "text": [
            "Confusion Matrix for PubMedBERT with Pretrained Weights:\n",
            "[[8 1 0 0]\n",
            " [0 6 0 0]\n",
            " [0 3 3 0]\n",
            " [0 1 0 0]]\n"
          ]
        },
        {
          "data": {
            "image/png": "[encoded data removed]",
            "text/plain": [
              "<Figure size 800x600 with 2 Axes>"
            ]
          },
          "metadata": {},
          "output_type": "display_data"
        }
      ],
      "source": [
        "from transformers import AutoModelForSequenceClassification, AutoTokenizer\n",
        "from torch.utils.data import DataLoader, Dataset\n",
        "import torch\n",
        "from sklearn.metrics import f1_score, confusion_matrix\n",
        "from tqdm import tqdm\n",
        "import matplotlib.pyplot as plt\n",
        "import seaborn as sns\n",
        "import numpy as np\n",
        "\n",
        "model_name = \"microsoft/BiomedNLP-BiomedBERT-base-uncased-abstract\"\n",
        "tokenizer = AutoTokenizer.from_pretrained(model_name)\n",
        "max_length = 128\n",
        "device = torch.device(\"cuda\" if torch.cuda.is_available() else \"cpu\")\n",
        "print(f\"Running on: {device}\")\n",
        "\n",
        "def do_tokenisation(texts, max_length):\n",
        "    return tokenizer(texts, padding=\"max_length\", truncation=True, max_length=max_length, return_tensors=\"pt\")\n",
        "\n",
        "class ClassificationDataset(Dataset):\n",
        "    def __init__(self, df, split):\n",
        "        self.df = df[df.Split == split]\n",
        "        self.tokeniser_output = do_tokenisation(self.df.Abstract.tolist(), max_length)\n",
        "        self.labels = self.df.Year.values - 2020\n",
        "\n",
        "    def __len__(self):\n",
        "        return len(self.df)\n",
        "\n",
        "    def __getitem__(self, idx):\n",
        "        return (self.tokeniser_output[\"input_ids\"][idx], self.tokeniser_output[\"attention_mask\"][idx], self.labels[idx])\n",
        "\n",
        "# Data setup\n",
        "df[\"Abstract_Cleaned\"] = df[\"Abstract\"].apply(clean)\n",
        "train_dataset = ClassificationDataset(df, \"Train\")\n",
        "valid_dataset = ClassificationDataset(df, \"Valid\")\n",
        "test_dataset = ClassificationDataset(df, \"Test\")\n",
        "train_dataloader = DataLoader(train_dataset, batch_size=16, shuffle=True)\n",
        "valid_dataloader = DataLoader(valid_dataset, batch_size=16, shuffle=False)\n",
        "test_dataloader = DataLoader(test_dataset, batch_size=16, shuffle=False)\n",
        "\n",
        "def train_model():\n",
        "    # Load pretrained weights\n",
        "    model = AutoModelForSequenceClassification.from_pretrained(model_name, num_labels=4).to(device)\n",
        "    optimizer = AdamW(model.parameters(), lr=2e-5)\n",
        "    criterion = torch.nn.CrossEntropyLoss()\n",
        "    N_EPOCHS = 20\n",
        "    patience = 4\n",
        "    best_valid_f1 = 0.0\n",
        "    patience_counter = 0\n",
        "\n",
        "    total_train_f1, total_valid_f1, total_train_loss, total_valid_loss = [], [], [], []\n",
        "\n",
        "    for epoch in range(N_EPOCHS):\n",
        "        model.train()\n",
        "        train_f1, train_loss = [], []\n",
        "        for input_ids, attention_masks, labels in tqdm(train_dataloader, desc=f\"Epoch {epoch} Training\"):\n",
        "            input_ids, attention_masks, labels = input_ids.to(device), attention_masks.to(device), labels.to(device)\n",
        "            optimizer.zero_grad()\n",
        "            outputs = model(input_ids=input_ids, attention_mask=attention_masks, labels=labels)\n",
        "            loss = criterion(outputs.logits, labels)\n",
        "            loss.backward()\n",
        "            optimizer.step()\n",
        "            predictions = outputs.logits.argmax(-1)\n",
        "            f1 = f1_score(labels.cpu(), predictions.cpu(), average=\"weighted\")\n",
        "            train_f1.append(f1)\n",
        "            train_loss.append(loss.item())\n",
        "\n",
        "        model.eval()\n",
        "        valid_f1, valid_loss = [], []\n",
        "        for input_ids, attention_masks, labels in tqdm(valid_dataloader, desc=f\"Epoch {epoch} Validation\"):\n",
        "            with torch.no_grad():\n",
        "                outputs = model(input_ids.to(device), attention_mask=attention_masks.to(device))\n",
        "                loss = criterion(outputs.logits, labels.to(device))\n",
        "                predictions = outputs.logits.argmax(-1)\n",
        "                f1 = f1_score(labels.cpu(), predictions.cpu(), average=\"weighted\")\n",
        "                valid_f1.append(f1)\n",
        "                valid_loss.append(loss.item())\n",
        "\n",
        "        epoch_train_f1 = sum(train_f1) / len(train_f1)\n",
        "        epoch_valid_f1 = sum(valid_f1) / len(valid_f1)\n",
        "        print(f\"Epoch {epoch}: train F1={epoch_train_f1:.3f}, valid F1={epoch_valid_f1:.3f}\")\n",
        "\n",
        "        if epoch_valid_f1 > best_valid_f1:\n",
        "            best_valid_f1 = epoch_valid_f1\n",
        "            patience_counter = 0\n",
        "            torch.save(model.state_dict(), \"best_model_pretrained.pt\")\n",
        "            print(f\"New best validation F1: {best_valid_f1:.3f}, model saved\")\n",
        "        else:\n",
        "            patience_counter += 1\n",
        "            print(f\"No improvement in validation F1, patience counter: {patience_counter}/{patience}\")\n",
        "            if patience_counter >= patience:\n",
        "                print(\"Early stopping triggered\")\n",
        "                model.load_state_dict(torch.load(\"best_model_pretrained.pt\"))\n",
        "                break\n",
        "\n",
        "        total_train_f1.append(epoch_train_f1)\n",
        "        total_valid_f1.append(epoch_valid_f1)\n",
        "        total_train_loss.append(sum(train_loss) / len(train_loss))\n",
        "        total_valid_loss.append(sum(valid_loss) / len(valid_loss))\n",
        "\n",
        "    return model, total_train_f1, total_valid_f1, total_train_loss, total_valid_loss\n",
        "\n",
        "# Function to get predictions\n",
        "def get_predictions(model, dataloader):\n",
        "    predictions = []\n",
        "    true_labels = []\n",
        "    model.eval()\n",
        "    with torch.no_grad():\n",
        "        for input_ids, attention_masks, labels in tqdm(dataloader, desc=\"Getting Predictions\"):\n",
        "            outputs = model(input_ids=input_ids.to(device), attention_mask=attention_masks.to(device))\n",
        "            predictions.extend(outputs.logits.argmax(-1).cpu().numpy())\n",
        "            true_labels.extend(labels.numpy())\n",
        "    return np.array(predictions), np.array(true_labels)\n",
        "\n",
        "# Train and evaluate the pretrained model\n",
        "print(\"Training with pretrained weights...\")\n",
        "model_pretrained, _, _, _, _ = train_model()\n",
        "\n",
        "# Get predictions for the pretrained model\n",
        "predictions_pretrained, true_labels_pretrained = get_predictions(model_pretrained, test_dataloader)\n",
        "\n",
        "# Confusion matrix for PubMedBERT with pretrained weights\n",
        "cm_pretrained = confusion_matrix(true_labels_pretrained, predictions_pretrained)\n",
        "print(\"Confusion Matrix for PubMedBERT with Pretrained Weights:\")\n",
        "print(cm_pretrained)\n",
        "\n",
        "# Plotting the confusion matrix\n",
        "plt.figure(figsize=(8, 6))\n",
        "sns.heatmap(cm_pretrained, annot=True, fmt=\"d\", cmap=\"Blues\",\n",
        "            xticklabels=[\"2020\", \"2021\", \"2022\", \"2023\"],  # Years instead of generic classes\n",
        "            yticklabels=[\"2020\", \"2021\", \"2022\", \"2023\"])\n",
        "plt.title(\"Confusion Matrix for PubMedBERT with Pretrained Weights\")\n",
        "plt.xlabel(\"Predicted Year\")\n",
        "plt.ylabel(\"True Year\")\n",
        "plt.show()"
      ]
    },
    {
      "cell_type": "markdown",
      "metadata": {
        "id": "u5vydYGSU4to"
      },
      "source": [
        "The pretrained **PubMedBERT** model, fine-tuned on a large medical dataset, achieved an F1 score of 0.72 on the validation set, outperforming both model with PubmedBERT cofig but trained from scratch without pretrained weights and TF-IDF classifiers. Pretraining allows PubMedBERT to leverage domain-specific knowledge, improving its performance."
      ]
    }
  ],
  "metadata": {
    "accelerator": "GPU",
    "colab": {
      "gpuType": "T4",
      "provenance": [],
      "include_colab_link": true
    },
    "kernelspec": {
      "display_name": "Python 3",
      "name": "python3"
    },
    "language_info": {
      "name": "python"
    },
    "widgets": {
      "application/vnd.jupyter.widget-state+json": {
        "063f094acabc4599915fce4f7ede7647": {
          "model_module": "@jupyter-widgets/controls",
          "model_module_version": "1.5.0",
          "model_name": "HTMLModel",
          "state": {
            "_dom_classes": [],
            "_model_module": "@jupyter-widgets/controls",
            "_model_module_version": "1.5.0",
            "_model_name": "HTMLModel",
            "_view_count": null,
            "_view_module": "@jupyter-widgets/controls",
            "_view_module_version": "1.5.0",
            "_view_name": "HTMLView",
            "description": "",
            "description_tooltip": null,
            "layout": "IPY_MODEL_7e6dea47b6204df69c247d73c720bce6",
            "placeholder": "​",
            "style": "IPY_MODEL_512c18c190af4f4eab72640327ee5a1e",
            "value": "vocab.txt: 100%"
          }
        },
        "18c92b584aa8421db9191fd4e12118fd": {
          "model_module": "@jupyter-widgets/base",
          "model_module_version": "1.2.0",
          "model_name": "LayoutModel",
          "state": {
            "_model_module": "@jupyter-widgets/base",
            "_model_module_version": "1.2.0",
            "_model_name": "LayoutModel",
            "_view_count": null,
            "_view_module": "@jupyter-widgets/base",
            "_view_module_version": "1.2.0",
            "_view_name": "LayoutView",
            "align_content": null,
            "align_items": null,
            "align_self": null,
            "border": null,
            "bottom": null,
            "display": null,
            "flex": null,
            "flex_flow": null,
            "grid_area": null,
            "grid_auto_columns": null,
            "grid_auto_flow": null,
            "grid_auto_rows": null,
            "grid_column": null,
            "grid_gap": null,
            "grid_row": null,
            "grid_template_areas": null,
            "grid_template_columns": null,
            "grid_template_rows": null,
            "height": null,
            "justify_content": null,
            "justify_items": null,
            "left": null,
            "margin": null,
            "max_height": null,
            "max_width": null,
            "min_height": null,
            "min_width": null,
            "object_fit": null,
            "object_position": null,
            "order": null,
            "overflow": null,
            "overflow_x": null,
            "overflow_y": null,
            "padding": null,
            "right": null,
            "top": null,
            "visibility": null,
            "width": null
          }
        },
        "1f061a9c510a470e8d250f193a22cd35": {
          "model_module": "@jupyter-widgets/controls",
          "model_module_version": "1.5.0",
          "model_name": "FloatProgressModel",
          "state": {
            "_dom_classes": [],
            "_model_module": "@jupyter-widgets/controls",
            "_model_module_version": "1.5.0",
            "_model_name": "FloatProgressModel",
            "_view_count": null,
            "_view_module": "@jupyter-widgets/controls",
            "_view_module_version": "1.5.0",
            "_view_name": "ProgressView",
            "bar_style": "success",
            "description": "",
            "description_tooltip": null,
            "layout": "IPY_MODEL_4d0bd263818a4ce0a6d62c4501955013",
            "max": 385,
            "min": 0,
            "orientation": "horizontal",
            "style": "IPY_MODEL_7994a851c0254736b199ffbf4e058dbe",
            "value": 385
          }
        },
        "35b5869d1ff04bf98cf08799ceb3f6e2": {
          "model_module": "@jupyter-widgets/controls",
          "model_module_version": "1.5.0",
          "model_name": "HTMLModel",
          "state": {
            "_dom_classes": [],
            "_model_module": "@jupyter-widgets/controls",
            "_model_module_version": "1.5.0",
            "_model_name": "HTMLModel",
            "_view_count": null,
            "_view_module": "@jupyter-widgets/controls",
            "_view_module_version": "1.5.0",
            "_view_name": "HTMLView",
            "description": "",
            "description_tooltip": null,
            "layout": "IPY_MODEL_a8538f3f9e17426ea1dddc1a2abdb6bb",
            "placeholder": "​",
            "style": "IPY_MODEL_770ac64afc044d30ae197a194eeaf423",
            "value": "config.json: 100%"
          }
        },
        "411443b2f61e45d9b2227b78e4627e64": {
          "model_module": "@jupyter-widgets/controls",
          "model_module_version": "1.5.0",
          "model_name": "DescriptionStyleModel",
          "state": {
            "_model_module": "@jupyter-widgets/controls",
            "_model_module_version": "1.5.0",
            "_model_name": "DescriptionStyleModel",
            "_view_count": null,
            "_view_module": "@jupyter-widgets/base",
            "_view_module_version": "1.2.0",
            "_view_name": "StyleView",
            "description_width": ""
          }
        },
        "4442bb5b46b64b49a580bc118ef95c8e": {
          "model_module": "@jupyter-widgets/controls",
          "model_module_version": "1.5.0",
          "model_name": "HTMLModel",
          "state": {
            "_dom_classes": [],
            "_model_module": "@jupyter-widgets/controls",
            "_model_module_version": "1.5.0",
            "_model_name": "HTMLModel",
            "_view_count": null,
            "_view_module": "@jupyter-widgets/controls",
            "_view_module_version": "1.5.0",
            "_view_name": "HTMLView",
            "description": "",
            "description_tooltip": null,
            "layout": "IPY_MODEL_defa55248e24491dac360a750cf3f166",
            "placeholder": "​",
            "style": "IPY_MODEL_de84d2bf2b904c2abf0ed2086b1db296",
            "value": "tokenizer_config.json: 100%"
          }
        },
        "4d0bd263818a4ce0a6d62c4501955013": {
          "model_module": "@jupyter-widgets/base",
          "model_module_version": "1.2.0",
          "model_name": "LayoutModel",
          "state": {
            "_model_module": "@jupyter-widgets/base",
            "_model_module_version": "1.2.0",
            "_model_name": "LayoutModel",
            "_view_count": null,
            "_view_module": "@jupyter-widgets/base",
            "_view_module_version": "1.2.0",
            "_view_name": "LayoutView",
            "align_content": null,
            "align_items": null,
            "align_self": null,
            "border": null,
            "bottom": null,
            "display": null,
            "flex": null,
            "flex_flow": null,
            "grid_area": null,
            "grid_auto_columns": null,
            "grid_auto_flow": null,
            "grid_auto_rows": null,
            "grid_column": null,
            "grid_gap": null,
            "grid_row": null,
            "grid_template_areas": null,
            "grid_template_columns": null,
            "grid_template_rows": null,
            "height": null,
            "justify_content": null,
            "justify_items": null,
            "left": null,
            "margin": null,
            "max_height": null,
            "max_width": null,
            "min_height": null,
            "min_width": null,
            "object_fit": null,
            "object_position": null,
            "order": null,
            "overflow": null,
            "overflow_x": null,
            "overflow_y": null,
            "padding": null,
            "right": null,
            "top": null,
            "visibility": null,
            "width": null
          }
        },
        "512c18c190af4f4eab72640327ee5a1e": {
          "model_module": "@jupyter-widgets/controls",
          "model_module_version": "1.5.0",
          "model_name": "DescriptionStyleModel",
          "state": {
            "_model_module": "@jupyter-widgets/controls",
            "_model_module_version": "1.5.0",
            "_model_name": "DescriptionStyleModel",
            "_view_count": null,
            "_view_module": "@jupyter-widgets/base",
            "_view_module_version": "1.2.0",
            "_view_name": "StyleView",
            "description_width": ""
          }
        },
        "54a8cb77e47540c19d474725266570e0": {
          "model_module": "@jupyter-widgets/controls",
          "model_module_version": "1.5.0",
          "model_name": "HTMLModel",
          "state": {
            "_dom_classes": [],
            "_model_module": "@jupyter-widgets/controls",
            "_model_module_version": "1.5.0",
            "_model_name": "HTMLModel",
            "_view_count": null,
            "_view_module": "@jupyter-widgets/controls",
            "_view_module_version": "1.5.0",
            "_view_name": "HTMLView",
            "description": "",
            "description_tooltip": null,
            "layout": "IPY_MODEL_98eb1aca60924a7cbc640ee94750c7b9",
            "placeholder": "​",
            "style": "IPY_MODEL_7b3e3b0fbcfc41d691e2a1592a3f9a0f",
            "value": " 225k/225k [00:00&lt;00:00, 717kB/s]"
          }
        },
        "60195a825a0d48f2a470b59961fb2a17": {
          "model_module": "@jupyter-widgets/base",
          "model_module_version": "1.2.0",
          "model_name": "LayoutModel",
          "state": {
            "_model_module": "@jupyter-widgets/base",
            "_model_module_version": "1.2.0",
            "_model_name": "LayoutModel",
            "_view_count": null,
            "_view_module": "@jupyter-widgets/base",
            "_view_module_version": "1.2.0",
            "_view_name": "LayoutView",
            "align_content": null,
            "align_items": null,
            "align_self": null,
            "border": null,
            "bottom": null,
            "display": null,
            "flex": null,
            "flex_flow": null,
            "grid_area": null,
            "grid_auto_columns": null,
            "grid_auto_flow": null,
            "grid_auto_rows": null,
            "grid_column": null,
            "grid_gap": null,
            "grid_row": null,
            "grid_template_areas": null,
            "grid_template_columns": null,
            "grid_template_rows": null,
            "height": null,
            "justify_content": null,
            "justify_items": null,
            "left": null,
            "margin": null,
            "max_height": null,
            "max_width": null,
            "min_height": null,
            "min_width": null,
            "object_fit": null,
            "object_position": null,
            "order": null,
            "overflow": null,
            "overflow_x": null,
            "overflow_y": null,
            "padding": null,
            "right": null,
            "top": null,
            "visibility": null,
            "width": null
          }
        },
        "72d6e3aa3641441a9198266656bae64c": {
          "model_module": "@jupyter-widgets/controls",
          "model_module_version": "1.5.0",
          "model_name": "HBoxModel",
          "state": {
            "_dom_classes": [],
            "_model_module": "@jupyter-widgets/controls",
            "_model_module_version": "1.5.0",
            "_model_name": "HBoxModel",
            "_view_count": null,
            "_view_module": "@jupyter-widgets/controls",
            "_view_module_version": "1.5.0",
            "_view_name": "HBoxView",
            "box_style": "",
            "children": [
              "IPY_MODEL_063f094acabc4599915fce4f7ede7647",
              "IPY_MODEL_9da01e17606240d29e6d514750daa977",
              "IPY_MODEL_54a8cb77e47540c19d474725266570e0"
            ],
            "layout": "IPY_MODEL_a1eda13630124011a066c7896ec0d4d2"
          }
        },
        "770ac64afc044d30ae197a194eeaf423": {
          "model_module": "@jupyter-widgets/controls",
          "model_module_version": "1.5.0",
          "model_name": "DescriptionStyleModel",
          "state": {
            "_model_module": "@jupyter-widgets/controls",
            "_model_module_version": "1.5.0",
            "_model_name": "DescriptionStyleModel",
            "_view_count": null,
            "_view_module": "@jupyter-widgets/base",
            "_view_module_version": "1.2.0",
            "_view_name": "StyleView",
            "description_width": ""
          }
        },
        "7994a851c0254736b199ffbf4e058dbe": {
          "model_module": "@jupyter-widgets/controls",
          "model_module_version": "1.5.0",
          "model_name": "ProgressStyleModel",
          "state": {
            "_model_module": "@jupyter-widgets/controls",
            "_model_module_version": "1.5.0",
            "_model_name": "ProgressStyleModel",
            "_view_count": null,
            "_view_module": "@jupyter-widgets/base",
            "_view_module_version": "1.2.0",
            "_view_name": "StyleView",
            "bar_color": null,
            "description_width": ""
          }
        },
        "7b3e3b0fbcfc41d691e2a1592a3f9a0f": {
          "model_module": "@jupyter-widgets/controls",
          "model_module_version": "1.5.0",
          "model_name": "DescriptionStyleModel",
          "state": {
            "_model_module": "@jupyter-widgets/controls",
            "_model_module_version": "1.5.0",
            "_model_name": "DescriptionStyleModel",
            "_view_count": null,
            "_view_module": "@jupyter-widgets/base",
            "_view_module_version": "1.2.0",
            "_view_name": "StyleView",
            "description_width": ""
          }
        },
        "7e6dea47b6204df69c247d73c720bce6": {
          "model_module": "@jupyter-widgets/base",
          "model_module_version": "1.2.0",
          "model_name": "LayoutModel",
          "state": {
            "_model_module": "@jupyter-widgets/base",
            "_model_module_version": "1.2.0",
            "_model_name": "LayoutModel",
            "_view_count": null,
            "_view_module": "@jupyter-widgets/base",
            "_view_module_version": "1.2.0",
            "_view_name": "LayoutView",
            "align_content": null,
            "align_items": null,
            "align_self": null,
            "border": null,
            "bottom": null,
            "display": null,
            "flex": null,
            "flex_flow": null,
            "grid_area": null,
            "grid_auto_columns": null,
            "grid_auto_flow": null,
            "grid_auto_rows": null,
            "grid_column": null,
            "grid_gap": null,
            "grid_row": null,
            "grid_template_areas": null,
            "grid_template_columns": null,
            "grid_template_rows": null,
            "height": null,
            "justify_content": null,
            "justify_items": null,
            "left": null,
            "margin": null,
            "max_height": null,
            "max_width": null,
            "min_height": null,
            "min_width": null,
            "object_fit": null,
            "object_position": null,
            "order": null,
            "overflow": null,
            "overflow_x": null,
            "overflow_y": null,
            "padding": null,
            "right": null,
            "top": null,
            "visibility": null,
            "width": null
          }
        },
        "8d4837f5f1564a7e9bb29340a2b57384": {
          "model_module": "@jupyter-widgets/base",
          "model_module_version": "1.2.0",
          "model_name": "LayoutModel",
          "state": {
            "_model_module": "@jupyter-widgets/base",
            "_model_module_version": "1.2.0",
            "_model_name": "LayoutModel",
            "_view_count": null,
            "_view_module": "@jupyter-widgets/base",
            "_view_module_version": "1.2.0",
            "_view_name": "LayoutView",
            "align_content": null,
            "align_items": null,
            "align_self": null,
            "border": null,
            "bottom": null,
            "display": null,
            "flex": null,
            "flex_flow": null,
            "grid_area": null,
            "grid_auto_columns": null,
            "grid_auto_flow": null,
            "grid_auto_rows": null,
            "grid_column": null,
            "grid_gap": null,
            "grid_row": null,
            "grid_template_areas": null,
            "grid_template_columns": null,
            "grid_template_rows": null,
            "height": null,
            "justify_content": null,
            "justify_items": null,
            "left": null,
            "margin": null,
            "max_height": null,
            "max_width": null,
            "min_height": null,
            "min_width": null,
            "object_fit": null,
            "object_position": null,
            "order": null,
            "overflow": null,
            "overflow_x": null,
            "overflow_y": null,
            "padding": null,
            "right": null,
            "top": null,
            "visibility": null,
            "width": null
          }
        },
        "924d8def44944f89ab7efd76eb65d29d": {
          "model_module": "@jupyter-widgets/controls",
          "model_module_version": "1.5.0",
          "model_name": "DescriptionStyleModel",
          "state": {
            "_model_module": "@jupyter-widgets/controls",
            "_model_module_version": "1.5.0",
            "_model_name": "DescriptionStyleModel",
            "_view_count": null,
            "_view_module": "@jupyter-widgets/base",
            "_view_module_version": "1.2.0",
            "_view_name": "StyleView",
            "description_width": ""
          }
        },
        "98eb1aca60924a7cbc640ee94750c7b9": {
          "model_module": "@jupyter-widgets/base",
          "model_module_version": "1.2.0",
          "model_name": "LayoutModel",
          "state": {
            "_model_module": "@jupyter-widgets/base",
            "_model_module_version": "1.2.0",
            "_model_name": "LayoutModel",
            "_view_count": null,
            "_view_module": "@jupyter-widgets/base",
            "_view_module_version": "1.2.0",
            "_view_name": "LayoutView",
            "align_content": null,
            "align_items": null,
            "align_self": null,
            "border": null,
            "bottom": null,
            "display": null,
            "flex": null,
            "flex_flow": null,
            "grid_area": null,
            "grid_auto_columns": null,
            "grid_auto_flow": null,
            "grid_auto_rows": null,
            "grid_column": null,
            "grid_gap": null,
            "grid_row": null,
            "grid_template_areas": null,
            "grid_template_columns": null,
            "grid_template_rows": null,
            "height": null,
            "justify_content": null,
            "justify_items": null,
            "left": null,
            "margin": null,
            "max_height": null,
            "max_width": null,
            "min_height": null,
            "min_width": null,
            "object_fit": null,
            "object_position": null,
            "order": null,
            "overflow": null,
            "overflow_x": null,
            "overflow_y": null,
            "padding": null,
            "right": null,
            "top": null,
            "visibility": null,
            "width": null
          }
        },
        "9da01e17606240d29e6d514750daa977": {
          "model_module": "@jupyter-widgets/controls",
          "model_module_version": "1.5.0",
          "model_name": "FloatProgressModel",
          "state": {
            "_dom_classes": [],
            "_model_module": "@jupyter-widgets/controls",
            "_model_module_version": "1.5.0",
            "_model_name": "FloatProgressModel",
            "_view_count": null,
            "_view_module": "@jupyter-widgets/controls",
            "_view_module_version": "1.5.0",
            "_view_name": "ProgressView",
            "bar_style": "success",
            "description": "",
            "description_tooltip": null,
            "layout": "IPY_MODEL_e1f9a28a88184083b39740ac23a12781",
            "max": 225062,
            "min": 0,
            "orientation": "horizontal",
            "style": "IPY_MODEL_f013607fd3c04a858b8000b03291d55f",
            "value": 225062
          }
        },
        "a1a7b015f64342e68c78f698c7b1c9af": {
          "model_module": "@jupyter-widgets/controls",
          "model_module_version": "1.5.0",
          "model_name": "HBoxModel",
          "state": {
            "_dom_classes": [],
            "_model_module": "@jupyter-widgets/controls",
            "_model_module_version": "1.5.0",
            "_model_name": "HBoxModel",
            "_view_count": null,
            "_view_module": "@jupyter-widgets/controls",
            "_view_module_version": "1.5.0",
            "_view_name": "HBoxView",
            "box_style": "",
            "children": [
              "IPY_MODEL_4442bb5b46b64b49a580bc118ef95c8e",
              "IPY_MODEL_bacb63c74aae47c38cd894bf254b69cb",
              "IPY_MODEL_aa6afb1fdb41485c8ae4302496c04ae1"
            ],
            "layout": "IPY_MODEL_18c92b584aa8421db9191fd4e12118fd"
          }
        },
        "a1eda13630124011a066c7896ec0d4d2": {
          "model_module": "@jupyter-widgets/base",
          "model_module_version": "1.2.0",
          "model_name": "LayoutModel",
          "state": {
            "_model_module": "@jupyter-widgets/base",
            "_model_module_version": "1.2.0",
            "_model_name": "LayoutModel",
            "_view_count": null,
            "_view_module": "@jupyter-widgets/base",
            "_view_module_version": "1.2.0",
            "_view_name": "LayoutView",
            "align_content": null,
            "align_items": null,
            "align_self": null,
            "border": null,
            "bottom": null,
            "display": null,
            "flex": null,
            "flex_flow": null,
            "grid_area": null,
            "grid_auto_columns": null,
            "grid_auto_flow": null,
            "grid_auto_rows": null,
            "grid_column": null,
            "grid_gap": null,
            "grid_row": null,
            "grid_template_areas": null,
            "grid_template_columns": null,
            "grid_template_rows": null,
            "height": null,
            "justify_content": null,
            "justify_items": null,
            "left": null,
            "margin": null,
            "max_height": null,
            "max_width": null,
            "min_height": null,
            "min_width": null,
            "object_fit": null,
            "object_position": null,
            "order": null,
            "overflow": null,
            "overflow_x": null,
            "overflow_y": null,
            "padding": null,
            "right": null,
            "top": null,
            "visibility": null,
            "width": null
          }
        },
        "a8538f3f9e17426ea1dddc1a2abdb6bb": {
          "model_module": "@jupyter-widgets/base",
          "model_module_version": "1.2.0",
          "model_name": "LayoutModel",
          "state": {
            "_model_module": "@jupyter-widgets/base",
            "_model_module_version": "1.2.0",
            "_model_name": "LayoutModel",
            "_view_count": null,
            "_view_module": "@jupyter-widgets/base",
            "_view_module_version": "1.2.0",
            "_view_name": "LayoutView",
            "align_content": null,
            "align_items": null,
            "align_self": null,
            "border": null,
            "bottom": null,
            "display": null,
            "flex": null,
            "flex_flow": null,
            "grid_area": null,
            "grid_auto_columns": null,
            "grid_auto_flow": null,
            "grid_auto_rows": null,
            "grid_column": null,
            "grid_gap": null,
            "grid_row": null,
            "grid_template_areas": null,
            "grid_template_columns": null,
            "grid_template_rows": null,
            "height": null,
            "justify_content": null,
            "justify_items": null,
            "left": null,
            "margin": null,
            "max_height": null,
            "max_width": null,
            "min_height": null,
            "min_width": null,
            "object_fit": null,
            "object_position": null,
            "order": null,
            "overflow": null,
            "overflow_x": null,
            "overflow_y": null,
            "padding": null,
            "right": null,
            "top": null,
            "visibility": null,
            "width": null
          }
        },
        "aa6afb1fdb41485c8ae4302496c04ae1": {
          "model_module": "@jupyter-widgets/controls",
          "model_module_version": "1.5.0",
          "model_name": "HTMLModel",
          "state": {
            "_dom_classes": [],
            "_model_module": "@jupyter-widgets/controls",
            "_model_module_version": "1.5.0",
            "_model_name": "HTMLModel",
            "_view_count": null,
            "_view_module": "@jupyter-widgets/controls",
            "_view_module_version": "1.5.0",
            "_view_name": "HTMLView",
            "description": "",
            "description_tooltip": null,
            "layout": "IPY_MODEL_b377f561b0774ddb8dc943172cc2a68d",
            "placeholder": "​",
            "style": "IPY_MODEL_924d8def44944f89ab7efd76eb65d29d",
            "value": " 28.0/28.0 [00:00&lt;00:00, 1.54kB/s]"
          }
        },
        "ae00daa7ef9e41eba22a172ba84735e8": {
          "model_module": "@jupyter-widgets/controls",
          "model_module_version": "1.5.0",
          "model_name": "HBoxModel",
          "state": {
            "_dom_classes": [],
            "_model_module": "@jupyter-widgets/controls",
            "_model_module_version": "1.5.0",
            "_model_name": "HBoxModel",
            "_view_count": null,
            "_view_module": "@jupyter-widgets/controls",
            "_view_module_version": "1.5.0",
            "_view_name": "HBoxView",
            "box_style": "",
            "children": [
              "IPY_MODEL_35b5869d1ff04bf98cf08799ceb3f6e2",
              "IPY_MODEL_1f061a9c510a470e8d250f193a22cd35",
              "IPY_MODEL_baac484ef7ba41529536d749510bc1c7"
            ],
            "layout": "IPY_MODEL_8d4837f5f1564a7e9bb29340a2b57384"
          }
        },
        "b377f561b0774ddb8dc943172cc2a68d": {
          "model_module": "@jupyter-widgets/base",
          "model_module_version": "1.2.0",
          "model_name": "LayoutModel",
          "state": {
            "_model_module": "@jupyter-widgets/base",
            "_model_module_version": "1.2.0",
            "_model_name": "LayoutModel",
            "_view_count": null,
            "_view_module": "@jupyter-widgets/base",
            "_view_module_version": "1.2.0",
            "_view_name": "LayoutView",
            "align_content": null,
            "align_items": null,
            "align_self": null,
            "border": null,
            "bottom": null,
            "display": null,
            "flex": null,
            "flex_flow": null,
            "grid_area": null,
            "grid_auto_columns": null,
            "grid_auto_flow": null,
            "grid_auto_rows": null,
            "grid_column": null,
            "grid_gap": null,
            "grid_row": null,
            "grid_template_areas": null,
            "grid_template_columns": null,
            "grid_template_rows": null,
            "height": null,
            "justify_content": null,
            "justify_items": null,
            "left": null,
            "margin": null,
            "max_height": null,
            "max_width": null,
            "min_height": null,
            "min_width": null,
            "object_fit": null,
            "object_position": null,
            "order": null,
            "overflow": null,
            "overflow_x": null,
            "overflow_y": null,
            "padding": null,
            "right": null,
            "top": null,
            "visibility": null,
            "width": null
          }
        },
        "baac484ef7ba41529536d749510bc1c7": {
          "model_module": "@jupyter-widgets/controls",
          "model_module_version": "1.5.0",
          "model_name": "HTMLModel",
          "state": {
            "_dom_classes": [],
            "_model_module": "@jupyter-widgets/controls",
            "_model_module_version": "1.5.0",
            "_model_name": "HTMLModel",
            "_view_count": null,
            "_view_module": "@jupyter-widgets/controls",
            "_view_module_version": "1.5.0",
            "_view_name": "HTMLView",
            "description": "",
            "description_tooltip": null,
            "layout": "IPY_MODEL_d2266252b4e04040a4b568dcc7bf99ad",
            "placeholder": "​",
            "style": "IPY_MODEL_411443b2f61e45d9b2227b78e4627e64",
            "value": " 385/385 [00:00&lt;00:00, 22.1kB/s]"
          }
        },
        "bacb63c74aae47c38cd894bf254b69cb": {
          "model_module": "@jupyter-widgets/controls",
          "model_module_version": "1.5.0",
          "model_name": "FloatProgressModel",
          "state": {
            "_dom_classes": [],
            "_model_module": "@jupyter-widgets/controls",
            "_model_module_version": "1.5.0",
            "_model_name": "FloatProgressModel",
            "_view_count": null,
            "_view_module": "@jupyter-widgets/controls",
            "_view_module_version": "1.5.0",
            "_view_name": "ProgressView",
            "bar_style": "success",
            "description": "",
            "description_tooltip": null,
            "layout": "IPY_MODEL_60195a825a0d48f2a470b59961fb2a17",
            "max": 28,
            "min": 0,
            "orientation": "horizontal",
            "style": "IPY_MODEL_be00e7e2fcda49208ed2ace600cfa342",
            "value": 28
          }
        },
        "be00e7e2fcda49208ed2ace600cfa342": {
          "model_module": "@jupyter-widgets/controls",
          "model_module_version": "1.5.0",
          "model_name": "ProgressStyleModel",
          "state": {
            "_model_module": "@jupyter-widgets/controls",
            "_model_module_version": "1.5.0",
            "_model_name": "ProgressStyleModel",
            "_view_count": null,
            "_view_module": "@jupyter-widgets/base",
            "_view_module_version": "1.2.0",
            "_view_name": "StyleView",
            "bar_color": null,
            "description_width": ""
          }
        },
        "d2266252b4e04040a4b568dcc7bf99ad": {
          "model_module": "@jupyter-widgets/base",
          "model_module_version": "1.2.0",
          "model_name": "LayoutModel",
          "state": {
            "_model_module": "@jupyter-widgets/base",
            "_model_module_version": "1.2.0",
            "_model_name": "LayoutModel",
            "_view_count": null,
            "_view_module": "@jupyter-widgets/base",
            "_view_module_version": "1.2.0",
            "_view_name": "LayoutView",
            "align_content": null,
            "align_items": null,
            "align_self": null,
            "border": null,
            "bottom": null,
            "display": null,
            "flex": null,
            "flex_flow": null,
            "grid_area": null,
            "grid_auto_columns": null,
            "grid_auto_flow": null,
            "grid_auto_rows": null,
            "grid_column": null,
            "grid_gap": null,
            "grid_row": null,
            "grid_template_areas": null,
            "grid_template_columns": null,
            "grid_template_rows": null,
            "height": null,
            "justify_content": null,
            "justify_items": null,
            "left": null,
            "margin": null,
            "max_height": null,
            "max_width": null,
            "min_height": null,
            "min_width": null,
            "object_fit": null,
            "object_position": null,
            "order": null,
            "overflow": null,
            "overflow_x": null,
            "overflow_y": null,
            "padding": null,
            "right": null,
            "top": null,
            "visibility": null,
            "width": null
          }
        },
        "de84d2bf2b904c2abf0ed2086b1db296": {
          "model_module": "@jupyter-widgets/controls",
          "model_module_version": "1.5.0",
          "model_name": "DescriptionStyleModel",
          "state": {
            "_model_module": "@jupyter-widgets/controls",
            "_model_module_version": "1.5.0",
            "_model_name": "DescriptionStyleModel",
            "_view_count": null,
            "_view_module": "@jupyter-widgets/base",
            "_view_module_version": "1.2.0",
            "_view_name": "StyleView",
            "description_width": ""
          }
        },
        "defa55248e24491dac360a750cf3f166": {
          "model_module": "@jupyter-widgets/base",
          "model_module_version": "1.2.0",
          "model_name": "LayoutModel",
          "state": {
            "_model_module": "@jupyter-widgets/base",
            "_model_module_version": "1.2.0",
            "_model_name": "LayoutModel",
            "_view_count": null,
            "_view_module": "@jupyter-widgets/base",
            "_view_module_version": "1.2.0",
            "_view_name": "LayoutView",
            "align_content": null,
            "align_items": null,
            "align_self": null,
            "border": null,
            "bottom": null,
            "display": null,
            "flex": null,
            "flex_flow": null,
            "grid_area": null,
            "grid_auto_columns": null,
            "grid_auto_flow": null,
            "grid_auto_rows": null,
            "grid_column": null,
            "grid_gap": null,
            "grid_row": null,
            "grid_template_areas": null,
            "grid_template_columns": null,
            "grid_template_rows": null,
            "height": null,
            "justify_content": null,
            "justify_items": null,
            "left": null,
            "margin": null,
            "max_height": null,
            "max_width": null,
            "min_height": null,
            "min_width": null,
            "object_fit": null,
            "object_position": null,
            "order": null,
            "overflow": null,
            "overflow_x": null,
            "overflow_y": null,
            "padding": null,
            "right": null,
            "top": null,
            "visibility": null,
            "width": null
          }
        },
        "e1f9a28a88184083b39740ac23a12781": {
          "model_module": "@jupyter-widgets/base",
          "model_module_version": "1.2.0",
          "model_name": "LayoutModel",
          "state": {
            "_model_module": "@jupyter-widgets/base",
            "_model_module_version": "1.2.0",
            "_model_name": "LayoutModel",
            "_view_count": null,
            "_view_module": "@jupyter-widgets/base",
            "_view_module_version": "1.2.0",
            "_view_name": "LayoutView",
            "align_content": null,
            "align_items": null,
            "align_self": null,
            "border": null,
            "bottom": null,
            "display": null,
            "flex": null,
            "flex_flow": null,
            "grid_area": null,
            "grid_auto_columns": null,
            "grid_auto_flow": null,
            "grid_auto_rows": null,
            "grid_column": null,
            "grid_gap": null,
            "grid_row": null,
            "grid_template_areas": null,
            "grid_template_columns": null,
            "grid_template_rows": null,
            "height": null,
            "justify_content": null,
            "justify_items": null,
            "left": null,
            "margin": null,
            "max_height": null,
            "max_width": null,
            "min_height": null,
            "min_width": null,
            "object_fit": null,
            "object_position": null,
            "order": null,
            "overflow": null,
            "overflow_x": null,
            "overflow_y": null,
            "padding": null,
            "right": null,
            "top": null,
            "visibility": null,
            "width": null
          }
        },
        "f013607fd3c04a858b8000b03291d55f": {
          "model_module": "@jupyter-widgets/controls",
          "model_module_version": "1.5.0",
          "model_name": "ProgressStyleModel",
          "state": {
            "_model_module": "@jupyter-widgets/controls",
            "_model_module_version": "1.5.0",
            "_model_name": "ProgressStyleModel",
            "_view_count": null,
            "_view_module": "@jupyter-widgets/base",
            "_view_module_version": "1.2.0",
            "_view_name": "StyleView",
            "bar_color": null,
            "description_width": ""
          }
        }
      }
    }
  },
  "nbformat": 4,
  "nbformat_minor": 0
}